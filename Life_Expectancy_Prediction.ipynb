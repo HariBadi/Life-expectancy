{
 "cells": [
  {
   "cell_type": "markdown",
   "metadata": {
    "id": "8Jet3ubso2Ss"
   },
   "source": [
    "###<b>1. Project Introduction"
   ]
  },
  {
   "cell_type": "markdown",
   "metadata": {
    "id": "xIafAySzo6E4"
   },
   "source": [
    "In this research project, the focus lies on predicting life expectancy in countries using advanced machine learning models. The notebook explores substantial data analysis and predictive algorithms to uncover the intricate factors influencing the variations in longevity among different countries. Through the aid of robust statistical tools, the project aims to gain valuable insights into the complex relationship between healthcare, socioeconomic factors, and life expectancy.\n",
    "\n",
    "The dataset includes a diverse range of features that provide essential information about the countries under study. Columns such as \"Population,\" \"Gross Domestic Product (GDP),\" \"Total Expenditure,\" and \"Schooling\" shed light on the economic and educational aspects that might influence life expectancy. Health-related factors, including immunization rates against diseases like \"Hepatitis B,\" \"Measles,\" \"Polio,\" and \"Diphtheria,\" along with data on diseases like \"HIV/AIDS,\" \"Infant Deaths,\" and \"Under-Five Deaths,\" offer significant insights into the healthcare conditions within each country.\n",
    "\n",
    "Moreover, lifestyle-related variables such as \"BMI\" (Average Body Mass Index), \"Alcohol\" consumption, and \"Thinness Prevalence\" are also considered in the analysis, as these factors have been shown to impact health and, consequently, life expectancy.\n",
    "\n",
    "By combining and analyzing this diverse set of features, the machine learning model seeks to provide a comprehensive understanding of the factors affecting life expectancy in various countries. The predictive power of the model will allow us to make informed assessments and identify key drivers that contribute to the differences in life expectancy across different regions. Ultimately, this research aims to contribute to global health insights and provide policymakers with valuable information to develop effective strategies for improving life expectancy and overall well-being in different countries."
   ]
  },
  {
   "cell_type": "markdown",
   "metadata": {
    "id": "zVG9bKrWsIKN"
   },
   "source": [
    "###<b>2. Feature Description"
   ]
  },
  {
   "cell_type": "markdown",
   "metadata": {
    "id": "8EdxKqUos1sv"
   },
   "source": [
    "Column descriptions for the dataset are as follows:\n",
    "\n",
    "- Country: The country under study.\n",
    "- Year: The year of the recorded data.\n",
    "- Status: The status of the country's development, indicating whether it is classified as developed, developing, or other.\n",
    "- Population: The population of the country.\n",
    "- Hepatitis B: The percentage of one-year-olds immunized against hepatitis B.\n",
    "- Measles: The number of reported measles cases per 1000 people.\n",
    "- Polio: The percentage of one-year-olds immunized against polio.\n",
    "- Diphtheria: The percentage of one-year-olds immunized against diphtheria.\n",
    "- HIV/AIDS: The number of deaths caused by AIDS of the last 4-year-olds who were born alive per 1000 people.\n",
    "- Infant Deaths: The number of infant deaths per 1000 people.\n",
    "- Under-Five Deaths: The number of deaths of people under 5 years old per 1000 people.\n",
    "- Total Expenditure: The ratio of government medical-health expenses to total government expenses in percentage.\n",
    "- GDP (Gross Domestic Product): The economic indicator representing the total value of all goods and services produced within a country's borders.\n",
    "- BMI (Body Mass Index): The average body mass index of the entire population of the country.\n",
    "- Thinness 1-19 Years: The prevalence of thinness among people aged 19 years old in percentage.\n",
    "- Alcohol: Liters of alcohol consumption among people over 15 years old.\n",
    "- Schooling: The number of years that people study.\n",
    "- Life Expectancy: The country's life expectancy, which serves as the target variable for the predictive model."
   ]
  },
  {
   "cell_type": "markdown",
   "metadata": {
    "id": "R7fONmF1t1mB"
   },
   "source": [
    "###<b>3. Initial Data Exploration"
   ]
  },
  {
   "cell_type": "code",
   "execution_count": 1,
   "metadata": {
    "colab": {
     "base_uri": "https://localhost:8080/"
    },
    "id": "5HtJM5yeuMEB",
    "outputId": "5bed3951-de68-42cf-9de7-d4c1a141343e"
   },
   "outputs": [
    {
     "name": "stdout",
     "output_type": "stream",
     "text": [
      "Requirement already satisfied: pyspark in /Users/kalyan/opt/anaconda3/lib/python3.9/site-packages (3.4.1)\r\n",
      "Requirement already satisfied: py4j==0.10.9.7 in /Users/kalyan/opt/anaconda3/lib/python3.9/site-packages (from pyspark) (0.10.9.7)\r\n"
     ]
    }
   ],
   "source": [
    "!pip install pyspark"
   ]
  },
  {
   "cell_type": "code",
   "execution_count": 2,
   "metadata": {
    "colab": {
     "base_uri": "https://localhost:8080/"
    },
    "id": "r5jm4JzrNpZD",
    "outputId": "dd26bcbe-280a-42ad-d67c-c7f51d87e122"
   },
   "outputs": [
    {
     "name": "stdout",
     "output_type": "stream",
     "text": [
      "Collecting pandas_profiling\n",
      "  Downloading pandas_profiling-3.6.6-py2.py3-none-any.whl (324 kB)\n",
      "\u001b[2K     \u001b[90m━━━━━━━━━━━━━━━━━━━━━━━━━━━━━━━━━━━━━━━\u001b[0m \u001b[32m324.4/324.4 kB\u001b[0m \u001b[31m1.8 MB/s\u001b[0m eta \u001b[36m0:00:00\u001b[0m00:01\u001b[0m00:01\u001b[0m\n",
      "\u001b[?25hCollecting ydata-profiling\n",
      "  Downloading ydata_profiling-4.5.1-py2.py3-none-any.whl (357 kB)\n",
      "\u001b[2K     \u001b[90m━━━━━━━━━━━━━━━━━━━━━━━━━━━━━━━━━━━━━━━\u001b[0m \u001b[32m357.3/357.3 kB\u001b[0m \u001b[31m2.4 MB/s\u001b[0m eta \u001b[36m0:00:00\u001b[0ma \u001b[36m0:00:01\u001b[0m\n",
      "\u001b[?25hRequirement already satisfied: scipy<1.12,>=1.4.1 in /Users/kalyan/opt/anaconda3/lib/python3.9/site-packages (from ydata-profiling->pandas_profiling) (1.9.1)\n",
      "Collecting imagehash==4.3.1\n",
      "  Downloading ImageHash-4.3.1-py2.py3-none-any.whl (296 kB)\n",
      "\u001b[2K     \u001b[90m━━━━━━━━━━━━━━━━━━━━━━━━━━━━━━━━━━━━━━━\u001b[0m \u001b[32m296.5/296.5 kB\u001b[0m \u001b[31m2.4 MB/s\u001b[0m eta \u001b[36m0:00:00\u001b[0ma \u001b[36m0:00:01\u001b[0m\n",
      "\u001b[?25hCollecting wordcloud>=1.9.1\n",
      "  Downloading wordcloud-1.9.2-cp39-cp39-macosx_10_9_x86_64.whl (161 kB)\n",
      "\u001b[2K     \u001b[90m━━━━━━━━━━━━━━━━━━━━━━━━━━━━━━━━━━━━━━━\u001b[0m \u001b[32m161.1/161.1 kB\u001b[0m \u001b[31m2.3 MB/s\u001b[0m eta \u001b[36m0:00:00\u001b[0ma \u001b[36m0:00:01\u001b[0m\n",
      "\u001b[?25hRequirement already satisfied: tqdm<5,>=4.48.2 in /Users/kalyan/opt/anaconda3/lib/python3.9/site-packages (from ydata-profiling->pandas_profiling) (4.64.1)\n",
      "Collecting pydantic<2,>=1.8.1\n",
      "  Downloading pydantic-1.10.12-cp39-cp39-macosx_10_9_x86_64.whl (2.9 MB)\n",
      "\u001b[2K     \u001b[90m━━━━━━━━━━━━━━━━━━━━━━━━━━━━━━━━━━━━━━━━\u001b[0m \u001b[32m2.9/2.9 MB\u001b[0m \u001b[31m3.9 MB/s\u001b[0m eta \u001b[36m0:00:00\u001b[0m00:01\u001b[0m00:01\u001b[0m\n",
      "\u001b[?25hCollecting visions[type_image_path]==0.7.5\n",
      "  Downloading visions-0.7.5-py3-none-any.whl (102 kB)\n",
      "\u001b[2K     \u001b[90m━━━━━━━━━━━━━━━━━━━━━━━━━━━━━━━━━━━━━━━\u001b[0m \u001b[32m102.7/102.7 kB\u001b[0m \u001b[31m2.6 MB/s\u001b[0m eta \u001b[36m0:00:00\u001b[0m00:01\u001b[0m\n",
      "\u001b[?25hRequirement already satisfied: pandas!=1.4.0,<2.1,>1.1 in /Users/kalyan/opt/anaconda3/lib/python3.9/site-packages (from ydata-profiling->pandas_profiling) (1.4.4)\n",
      "Requirement already satisfied: requests<3,>=2.24.0 in /Users/kalyan/opt/anaconda3/lib/python3.9/site-packages (from ydata-profiling->pandas_profiling) (2.28.1)\n",
      "Requirement already satisfied: statsmodels<1,>=0.13.2 in /Users/kalyan/opt/anaconda3/lib/python3.9/site-packages (from ydata-profiling->pandas_profiling) (0.13.2)\n",
      "Requirement already satisfied: matplotlib<4,>=3.2 in /Users/kalyan/opt/anaconda3/lib/python3.9/site-packages (from ydata-profiling->pandas_profiling) (3.5.2)\n",
      "Requirement already satisfied: seaborn<0.13,>=0.10.1 in /Users/kalyan/opt/anaconda3/lib/python3.9/site-packages (from ydata-profiling->pandas_profiling) (0.11.2)\n",
      "Collecting htmlmin==0.1.12\n",
      "  Downloading htmlmin-0.1.12.tar.gz (19 kB)\n",
      "  Preparing metadata (setup.py) ... \u001b[?25ldone\n",
      "\u001b[?25hRequirement already satisfied: numpy<1.24,>=1.16.0 in /Users/kalyan/opt/anaconda3/lib/python3.9/site-packages (from ydata-profiling->pandas_profiling) (1.21.5)\n",
      "Collecting multimethod<2,>=1.4\n",
      "  Downloading multimethod-1.9.1-py3-none-any.whl (10 kB)\n",
      "Collecting phik<0.13,>=0.11.1\n",
      "  Downloading phik-0.12.3-cp39-cp39-macosx_10_13_x86_64.whl (652 kB)\n",
      "\u001b[2K     \u001b[90m━━━━━━━━━━━━━━━━━━━━━━━━━━━━━━━━━━━━━━━\u001b[0m \u001b[32m653.0/653.0 kB\u001b[0m \u001b[31m4.4 MB/s\u001b[0m eta \u001b[36m0:00:00\u001b[0ma \u001b[36m0:00:01\u001b[0m\n",
      "\u001b[?25hRequirement already satisfied: jinja2<3.2,>=2.11.1 in /Users/kalyan/opt/anaconda3/lib/python3.9/site-packages (from ydata-profiling->pandas_profiling) (2.11.3)\n",
      "Collecting typeguard<3,>=2.13.2\n",
      "  Downloading typeguard-2.13.3-py3-none-any.whl (17 kB)\n",
      "Requirement already satisfied: PyYAML<6.1,>=5.0.0 in /Users/kalyan/opt/anaconda3/lib/python3.9/site-packages (from ydata-profiling->pandas_profiling) (6.0)\n",
      "Collecting dacite>=1.8\n",
      "  Downloading dacite-1.8.1-py3-none-any.whl (14 kB)\n",
      "Requirement already satisfied: pillow in /Users/kalyan/opt/anaconda3/lib/python3.9/site-packages (from imagehash==4.3.1->ydata-profiling->pandas_profiling) (9.2.0)\n",
      "Requirement already satisfied: PyWavelets in /Users/kalyan/opt/anaconda3/lib/python3.9/site-packages (from imagehash==4.3.1->ydata-profiling->pandas_profiling) (1.3.0)\n",
      "Requirement already satisfied: networkx>=2.4 in /Users/kalyan/opt/anaconda3/lib/python3.9/site-packages (from visions[type_image_path]==0.7.5->ydata-profiling->pandas_profiling) (2.8.4)\n",
      "Collecting tangled-up-in-unicode>=0.0.4\n",
      "  Downloading tangled_up_in_unicode-0.2.0-py3-none-any.whl (4.7 MB)\n",
      "\u001b[2K     \u001b[90m━━━━━━━━━━━━━━━━━━━━━━━━━━━━━━━━━━━━━━━━\u001b[0m \u001b[32m4.7/4.7 MB\u001b[0m \u001b[31m6.5 MB/s\u001b[0m eta \u001b[36m0:00:00\u001b[0m00:01\u001b[0m00:01\u001b[0m\n",
      "\u001b[?25hRequirement already satisfied: attrs>=19.3.0 in /Users/kalyan/opt/anaconda3/lib/python3.9/site-packages (from visions[type_image_path]==0.7.5->ydata-profiling->pandas_profiling) (21.4.0)\n",
      "Requirement already satisfied: MarkupSafe>=0.23 in /Users/kalyan/opt/anaconda3/lib/python3.9/site-packages (from jinja2<3.2,>=2.11.1->ydata-profiling->pandas_profiling) (2.0.1)\n",
      "Requirement already satisfied: packaging>=20.0 in /Users/kalyan/opt/anaconda3/lib/python3.9/site-packages (from matplotlib<4,>=3.2->ydata-profiling->pandas_profiling) (21.3)\n",
      "Requirement already satisfied: pyparsing>=2.2.1 in /Users/kalyan/opt/anaconda3/lib/python3.9/site-packages (from matplotlib<4,>=3.2->ydata-profiling->pandas_profiling) (3.0.9)\n",
      "Requirement already satisfied: fonttools>=4.22.0 in /Users/kalyan/opt/anaconda3/lib/python3.9/site-packages (from matplotlib<4,>=3.2->ydata-profiling->pandas_profiling) (4.25.0)\n",
      "Requirement already satisfied: python-dateutil>=2.7 in /Users/kalyan/opt/anaconda3/lib/python3.9/site-packages (from matplotlib<4,>=3.2->ydata-profiling->pandas_profiling) (2.8.2)\n",
      "Requirement already satisfied: kiwisolver>=1.0.1 in /Users/kalyan/opt/anaconda3/lib/python3.9/site-packages (from matplotlib<4,>=3.2->ydata-profiling->pandas_profiling) (1.4.2)\n",
      "Requirement already satisfied: cycler>=0.10 in /Users/kalyan/opt/anaconda3/lib/python3.9/site-packages (from matplotlib<4,>=3.2->ydata-profiling->pandas_profiling) (0.11.0)\n",
      "Requirement already satisfied: pytz>=2020.1 in /Users/kalyan/opt/anaconda3/lib/python3.9/site-packages (from pandas!=1.4.0,<2.1,>1.1->ydata-profiling->pandas_profiling) (2022.1)\n",
      "Requirement already satisfied: joblib>=0.14.1 in /Users/kalyan/opt/anaconda3/lib/python3.9/site-packages (from phik<0.13,>=0.11.1->ydata-profiling->pandas_profiling) (1.1.0)\n",
      "Requirement already satisfied: typing-extensions>=4.2.0 in /Users/kalyan/opt/anaconda3/lib/python3.9/site-packages (from pydantic<2,>=1.8.1->ydata-profiling->pandas_profiling) (4.3.0)\n",
      "Requirement already satisfied: charset-normalizer<3,>=2 in /Users/kalyan/opt/anaconda3/lib/python3.9/site-packages (from requests<3,>=2.24.0->ydata-profiling->pandas_profiling) (2.0.4)\n",
      "Requirement already satisfied: urllib3<1.27,>=1.21.1 in /Users/kalyan/opt/anaconda3/lib/python3.9/site-packages (from requests<3,>=2.24.0->ydata-profiling->pandas_profiling) (1.26.11)\n",
      "Requirement already satisfied: idna<4,>=2.5 in /Users/kalyan/opt/anaconda3/lib/python3.9/site-packages (from requests<3,>=2.24.0->ydata-profiling->pandas_profiling) (3.3)\n",
      "Requirement already satisfied: certifi>=2017.4.17 in /Users/kalyan/opt/anaconda3/lib/python3.9/site-packages (from requests<3,>=2.24.0->ydata-profiling->pandas_profiling) (2022.9.24)\n",
      "Requirement already satisfied: patsy>=0.5.2 in /Users/kalyan/opt/anaconda3/lib/python3.9/site-packages (from statsmodels<1,>=0.13.2->ydata-profiling->pandas_profiling) (0.5.2)\n",
      "Requirement already satisfied: six in /Users/kalyan/opt/anaconda3/lib/python3.9/site-packages (from patsy>=0.5.2->statsmodels<1,>=0.13.2->ydata-profiling->pandas_profiling) (1.16.0)\n",
      "Building wheels for collected packages: htmlmin\n",
      "  Building wheel for htmlmin (setup.py) ... \u001b[?25ldone\n",
      "\u001b[?25h  Created wheel for htmlmin: filename=htmlmin-0.1.12-py3-none-any.whl size=27082 sha256=fd424c2c4ee8d7043ae1a47bf0b47d606f56bd5625b6620b1238459ca588ee4d\n",
      "  Stored in directory: /Users/kalyan/Library/Caches/pip/wheels/1d/05/04/c6d7d3b66539d9e659ac6dfe81e2d0fd4c1a8316cc5a403300\n",
      "Successfully built htmlmin\n",
      "Installing collected packages: htmlmin, typeguard, tangled-up-in-unicode, pydantic, multimethod, dacite, imagehash, wordcloud, visions, phik, ydata-profiling, pandas_profiling\n",
      "Successfully installed dacite-1.8.1 htmlmin-0.1.12 imagehash-4.3.1 multimethod-1.9.1 pandas_profiling-3.6.6 phik-0.12.3 pydantic-1.10.12 tangled-up-in-unicode-0.2.0 typeguard-2.13.3 visions-0.7.5 wordcloud-1.9.2 ydata-profiling-4.5.1\n"
     ]
    }
   ],
   "source": [
    "!pip install pandas_profiling"
   ]
  },
  {
   "cell_type": "markdown",
   "metadata": {
    "id": "AervOGVVuHS9"
   },
   "source": [
    "####<b>3.1. Importing Libraries and loading data"
   ]
  },
  {
   "cell_type": "code",
   "execution_count": 3,
   "metadata": {
    "id": "x3SXnVCvoVdX"
   },
   "outputs": [],
   "source": [
    "import warnings\n",
    "warnings.filterwarnings(\"ignore\")\n",
    "import random\n",
    "random.seed(10)\n",
    "from pyspark.ml.feature import StringIndexer, OneHotEncoder, MinMaxScaler\n",
    "from pyspark.ml import Pipeline\n",
    "from pyspark.sql import SparkSession\n",
    "import matplotlib.pyplot as plt\n",
    "import seaborn as sns\n",
    "import pandas as pd\n",
    "import numpy as np\n",
    "import pandas_profiling\n",
    "from pyspark.ml.regression import LinearRegression, DecisionTreeRegressor, RandomForestRegressor, GBTRegressor\n",
    "from pyspark.ml.evaluation import RegressionEvaluator\n",
    "from pyspark.ml.feature import VectorAssembler\n",
    "from pyspark.sql import SparkSession\n",
    "from pyspark.ml.feature import VectorAssembler\n",
    "from pyspark.sql import functions as F\n",
    "from pyspark.sql.functions import col\n",
    "from pyspark.ml.feature import StringIndexer"
   ]
  },
  {
   "cell_type": "code",
   "execution_count": 4,
   "metadata": {
    "colab": {
     "base_uri": "https://localhost:8080/"
    },
    "id": "ps1hnq9Cu7PH",
    "outputId": "55444ee3-8072-4569-cc3f-28cb866b50c9"
   },
   "outputs": [
    {
     "name": "stderr",
     "output_type": "stream",
     "text": [
      "23/08/18 12:30:10 WARN Utils: Your hostname, Hari-MacBook-Air.local resolves to a loopback address: 127.0.0.1; using 192.168.1.105 instead (on interface en0)\n",
      "23/08/18 12:30:10 WARN Utils: Set SPARK_LOCAL_IP if you need to bind to another address\n",
      "Setting default log level to \"WARN\".\n",
      "To adjust logging level use sc.setLogLevel(newLevel). For SparkR, use setLogLevel(newLevel).\n",
      "23/08/18 12:30:12 WARN NativeCodeLoader: Unable to load native-hadoop library for your platform... using builtin-java classes where applicable\n",
      "                                                                                \r"
     ]
    },
    {
     "name": "stdout",
     "output_type": "stream",
     "text": [
      "+-----------+----+----------+-----------+-----------+-------+-----+----------+--------+-------------+-----------------+-----------------+----------+----+--------------------+-------+---------+---------------+\n",
      "|    Country|Year|    Status| Population|Hepatitis B|Measles|Polio|Diphtheria|HIV/AIDS|infant deaths|under-five deaths|Total expenditure|       GDP| BMI|thinness  1-19 years|Alcohol|Schooling|Life expectancy|\n",
      "+-----------+----+----------+-----------+-----------+-------+-----+----------+--------+-------------+-----------------+-----------------+----------+----+--------------------+-------+---------+---------------+\n",
      "|Afghanistan|2015|Developing|3.3736494E7|       65.0|   1154|  6.0|      65.0|     0.1|           62|               83|             8.16| 584.25921|19.1|                17.2|   0.01|     10.1|           65.0|\n",
      "|Afghanistan|2014|Developing|   327582.0|       62.0|    492| 58.0|      62.0|     0.1|           64|               86|             8.18|612.696514|18.6|                17.5|   0.01|     10.0|           59.9|\n",
      "|Afghanistan|2013|Developing|3.1731688E7|       64.0|    430| 62.0|      64.0|     0.1|           66|               89|             8.13|631.744976|18.1|                17.7|   0.01|      9.9|           59.9|\n",
      "|Afghanistan|2012|Developing|  3696958.0|       67.0|   2787| 67.0|      67.0|     0.1|           69|               93|             8.52|   669.959|17.6|                17.9|   0.01|      9.8|           59.5|\n",
      "|Afghanistan|2011|Developing|  2978599.0|       68.0|   3013| 68.0|      68.0|     0.1|           71|               97|             7.87| 63.537231|17.2|                18.2|   0.01|      9.5|           59.2|\n",
      "+-----------+----+----------+-----------+-----------+-------+-----+----------+--------+-------------+-----------------+-----------------+----------+----+--------------------+-------+---------+---------------+\n",
      "only showing top 5 rows\n",
      "\n"
     ]
    }
   ],
   "source": [
    "\n",
    "spark = SparkSession.builder.appName(\"Life_Expectancy_Prediction\").getOrCreate()\n",
    "\n",
    "# Reading the data\n",
    "path_data = \"life_expectancy.csv\"\n",
    "data = spark.read.csv(path_data, header=True, inferSchema=True)\n",
    "data.show(5)"
   ]
  },
  {
   "cell_type": "markdown",
   "metadata": {
    "id": "pPE_GburNJY-"
   },
   "source": [
    "####<b>3.2. Initial Data Exploration"
   ]
  },
  {
   "cell_type": "code",
   "execution_count": 5,
   "metadata": {
    "colab": {
     "base_uri": "https://localhost:8080/"
    },
    "id": "V6VZQPlbDVcB",
    "outputId": "52ba4347-47b0-4990-bdc5-d79d6f9061b3"
   },
   "outputs": [
    {
     "name": "stdout",
     "output_type": "stream",
     "text": [
      "Number of rows are:  2848\n",
      "Number of columns are:  ['Country', 'Year', 'Status', 'Population', 'Hepatitis B', 'Measles', 'Polio', 'Diphtheria', 'HIV/AIDS', 'infant deaths', 'under-five deaths', 'Total expenditure', 'GDP', 'BMI', 'thinness  1-19 years', 'Alcohol', 'Schooling', 'Life expectancy']\n",
      "------------------------------------------------------------\n",
      "+-----------+----+----------+-----------+-----------+-------+-----+----------+--------+-------------+-----------------+-----------------+----------+----+--------------------+-------+---------+---------------+\n",
      "|    Country|Year|    Status| Population|Hepatitis B|Measles|Polio|Diphtheria|HIV/AIDS|infant deaths|under-five deaths|Total expenditure|       GDP| BMI|thinness  1-19 years|Alcohol|Schooling|Life expectancy|\n",
      "+-----------+----+----------+-----------+-----------+-------+-----+----------+--------+-------------+-----------------+-----------------+----------+----+--------------------+-------+---------+---------------+\n",
      "|Afghanistan|2015|Developing|3.3736494E7|       65.0|   1154|  6.0|      65.0|     0.1|           62|               83|             8.16| 584.25921|19.1|                17.2|   0.01|     10.1|           65.0|\n",
      "|Afghanistan|2014|Developing|   327582.0|       62.0|    492| 58.0|      62.0|     0.1|           64|               86|             8.18|612.696514|18.6|                17.5|   0.01|     10.0|           59.9|\n",
      "|Afghanistan|2013|Developing|3.1731688E7|       64.0|    430| 62.0|      64.0|     0.1|           66|               89|             8.13|631.744976|18.1|                17.7|   0.01|      9.9|           59.9|\n",
      "|Afghanistan|2012|Developing|  3696958.0|       67.0|   2787| 67.0|      67.0|     0.1|           69|               93|             8.52|   669.959|17.6|                17.9|   0.01|      9.8|           59.5|\n",
      "|Afghanistan|2011|Developing|  2978599.0|       68.0|   3013| 68.0|      68.0|     0.1|           71|               97|             7.87| 63.537231|17.2|                18.2|   0.01|      9.5|           59.2|\n",
      "+-----------+----+----------+-----------+-----------+-------+-----+----------+--------+-------------+-----------------+-----------------+----------+----+--------------------+-------+---------+---------------+\n",
      "only showing top 5 rows\n",
      "\n",
      "------------------------------------------------------------\n"
     ]
    },
    {
     "name": "stderr",
     "output_type": "stream",
     "text": [
      "23/08/18 12:30:32 WARN package: Truncated the string representation of a plan since it was too large. This behavior can be adjusted by setting 'spark.sql.debug.maxToStringFields'.\n",
      "                                                                                \r"
     ]
    },
    {
     "name": "stdout",
     "output_type": "stream",
     "text": [
      "+-------+-----------+-----------------+----------+--------------------+-----------------+------------------+-----------------+------------------+------------------+------------------+------------------+------------------+------------------+------------------+--------------------+-----------------+-----------------+-----------------+\n",
      "|summary|    Country|             Year|    Status|          Population|      Hepatitis B|           Measles|            Polio|        Diphtheria|          HIV/AIDS|     infant deaths| under-five deaths| Total expenditure|               GDP|               BMI|thinness  1-19 years|          Alcohol|        Schooling|  Life expectancy|\n",
      "+-------+-----------+-----------------+----------+--------------------+-----------------+------------------+-----------------+------------------+------------------+------------------+------------------+------------------+------------------+------------------+--------------------+-----------------+-----------------+-----------------+\n",
      "|  count|       2848|             2848|      2848|                2204|             2306|              2848|             2829|              2829|              2848|              2848|              2848|              2627|              2406|              2816|                2816|             2660|             2688|             2848|\n",
      "|   mean|       null|           2007.5|      null|1.2834572124519061E7|81.07675628794449|2083.0821629213483|82.68221986567691| 82.45139625309297|1.7564606741572961|28.359901685393258|              39.5| 5.935576703464018| 7664.398813061648|38.503373579545375|    4.84723011363637|4.638932330827088|12.06015624999999|69.34740168539332|\n",
      "| stddev|       null|4.610581741731727|      null| 6.196094070313639E7|25.01906790519384|10249.107207029907|23.43495403453706|23.693936038907506| 5.148935360220464|117.18803184985123|159.80086615762724|2.5044386644721213|14466.241793462641|19.955485434257724|   4.443695451979344|  4.0647209082063|3.320159954983308|9.528332416616383|\n",
      "|    min|Afghanistan|             2000| Developed|                34.0|              1.0|                 0|              3.0|               2.0|               0.1|                 0|                 0|              0.37|           1.68135|               1.0|                 0.1|             0.01|              0.0|             36.3|\n",
      "|    max|   Zimbabwe|             2015|Developing|       1.293859294E9|             99.0|            212183|             99.0|              99.0|              50.6|              1800|              2500|              17.6|       119172.7418|              77.6|                27.7|            17.87|             20.7|             89.0|\n",
      "+-------+-----------+-----------------+----------+--------------------+-----------------+------------------+-----------------+------------------+------------------+------------------+------------------+------------------+------------------+------------------+--------------------+-----------------+-----------------+-----------------+\n",
      "\n",
      "------------------------------------------------------------\n",
      "                      Miss Count\n",
      "Country                        0\n",
      "Year                           0\n",
      "Status                         0\n",
      "Population                   644\n",
      "Hepatitis B                  542\n",
      "Measles                        0\n",
      "Polio                         19\n",
      "Diphtheria                    19\n",
      "HIV/AIDS                       0\n",
      "infant deaths                  0\n",
      "under-five deaths              0\n",
      "Total expenditure            221\n",
      "GDP                          442\n",
      "BMI                           32\n",
      "thinness  1-19 years          32\n",
      "Alcohol                      188\n",
      "Schooling                    160\n",
      "Life expectancy                0\n",
      "------------------------------------------------------------\n",
      "root\n",
      " |-- Country: string (nullable = true)\n",
      " |-- Year: integer (nullable = true)\n",
      " |-- Status: string (nullable = true)\n",
      " |-- Population: double (nullable = true)\n",
      " |-- Hepatitis B: double (nullable = true)\n",
      " |-- Measles: integer (nullable = true)\n",
      " |-- Polio: double (nullable = true)\n",
      " |-- Diphtheria: double (nullable = true)\n",
      " |-- HIV/AIDS: double (nullable = true)\n",
      " |-- infant deaths: integer (nullable = true)\n",
      " |-- under-five deaths: integer (nullable = true)\n",
      " |-- Total expenditure: double (nullable = true)\n",
      " |-- GDP: double (nullable = true)\n",
      " |-- BMI: double (nullable = true)\n",
      " |-- thinness  1-19 years: double (nullable = true)\n",
      " |-- Alcohol: double (nullable = true)\n",
      " |-- Schooling: double (nullable = true)\n",
      " |-- Life expectancy: double (nullable = true)\n",
      "\n",
      "None\n"
     ]
    }
   ],
   "source": [
    "def initial_data_exploration(data):\n",
    "  \"\"\"Function to Perform some initial data exploration on the given Spark DataFrame.\"\"\"\n",
    "\n",
    "  # Getting the number of rows and columns in the DataFrame.\n",
    "  num_rows = data.count()\n",
    "  num_cols = data.columns\n",
    "\n",
    "  print(\"Number of rows are: \",num_rows)\n",
    "  print(\"Number of columns are: \", num_cols)\n",
    "  print(\"----\"*15)\n",
    "  # Printing the first 5 rows of the DataFrame.\n",
    "  data.show(5)\n",
    "  print(\"----\"*15)\n",
    "  # Print the summary statistics of the DataFrame.\n",
    "  data.describe().show()\n",
    "  print(\"----\"*15)\n",
    "  # Check for missing values in the DataFrame.\n",
    "  miss_values = data.select([F.count(F.when(F.col(c).isNull(), c)).alias(c) for c in data.columns])\n",
    "  missing_values_data = miss_values.toPandas().transpose()\n",
    "  missing_values_data.columns = ['Miss Count']\n",
    "\n",
    "  print(missing_values_data)\n",
    "  print(\"----\"*15)\n",
    "\n",
    "  print(data.printSchema())\n",
    "\n",
    "# Perform initial data exploration.\n",
    "initial_data_exploration(data)"
   ]
  },
  {
   "cell_type": "markdown",
   "metadata": {
    "id": "0eRsfpYyGNkA"
   },
   "source": [
    "<b>Observations</b>\n",
    "\n",
    "\n",
    "* The average life expectancy in the dataset is 69.3 years.\n",
    "* The standard deviation of life expectancy is 9.5 years, which means that most countries have life expectancies within 9.5 years of the average.\n",
    "* The minimum life expectancy in the dataset is 36.3 years, which is in Afghanistan.\n",
    "* The maximum life expectancy in the dataset is 89.0 years, which is in Zimbabwe.\n",
    "* There is a positive correlation between life expectancy and GDP. This means that countries with higher GDPs tend to have longer life expectancies.\n",
    "* There is a negative correlation between life expectancy and infant deaths. This means that countries with lower infant death rates tend to have longer life expectancies.\n",
    "* There are some missing values in the dataset. This is likely due to the fact that some countries do not have reliable data on all of the variables in the dataset.\n",
    "\n",
    "* The distribution of life expectancy is not normally distributed. This means that we cannot use a normal distribution to make predictions about life expectancy.\n",
    "* There are some outliers in the dataset. These outliers may be due to errors in the data or to special circumstances in certain countries.\n",
    "* The correlation between life expectancy and other variables is not always linear. This means that we cannot always use linear regression to make predictions about life expectancy.\n",
    "\n",
    "* There are missing values for the following columns: Hepatitis B (542 missing values), Polio (19 missing values), Diphtheria (19 missing values), Total expenditure (221 missing values), GDP (442 missing values), BMI (32 missing values), Thinness 1-19 years (32 missing values), Alcohol (188 missing values), and Schooling (160 missing values).\n",
    "\n",
    "* The columns with the most missing values are Hepatitis B, Polio, Diphtheria, Total expenditure, GDP, BMI, Thinness 1-19 years, Alcohol, and Schooling.\n",
    "\n",
    "* The columns with the fewest missing values are Country, Year, Status, Population, Measles, and Life expectancy.\n",
    "\n",
    "* The missing values are not evenly distributed across the columns. Some columns have more missing values than others.\n",
    "\n"
   ]
  },
  {
   "cell_type": "markdown",
   "metadata": {
    "id": "HiBijHv0NRUR"
   },
   "source": [
    "####<b>3.3. Checking for duplicates in the data"
   ]
  },
  {
   "cell_type": "code",
   "execution_count": 6,
   "metadata": {
    "colab": {
     "base_uri": "https://localhost:8080/"
    },
    "id": "5hSWxN_SERfE",
    "outputId": "203238ee-0fc9-4180-a2f1-81286e7bef65"
   },
   "outputs": [
    {
     "name": "stderr",
     "output_type": "stream",
     "text": [
      "                                                                                \r"
     ]
    },
    {
     "name": "stdout",
     "output_type": "stream",
     "text": [
      "There are no duplicates in the data.\n"
     ]
    }
   ],
   "source": [
    "def check_for_duplicates(data):\n",
    "  \"\"\"Checking for duplicates in the data.\"\"\"\n",
    "\n",
    "  # Get the number of distinct rows in the DataFrame.\n",
    "  num_distinct_rows = data.distinct().count()\n",
    "\n",
    "  # Get the number of total rows in the DataFrame.\n",
    "  num_total_rows = data.count()\n",
    "\n",
    "  # Check if the number of distinct rows is equal to the number of total rows.\n",
    "  if num_distinct_rows == num_total_rows:\n",
    "    print(\"There are no duplicates in the data.\")\n",
    "  else:\n",
    "    print(\"There are duplicates in the data.\")\n",
    "\n",
    "\n",
    "check_for_duplicates(data)\n"
   ]
  },
  {
   "cell_type": "markdown",
   "metadata": {
    "id": "ta6I2QJkNfOp"
   },
   "source": [
    "- There are no duplicates present in the data"
   ]
  },
  {
   "cell_type": "code",
   "execution_count": null,
   "metadata": {
    "colab": {
     "base_uri": "https://localhost:8080/",
     "height": 918,
     "referenced_widgets": [
      "8aa69c7ae5e14e35a1d8cd54d33a1682",
      "e8cbb4b5f6514b4398d8ef2ba59ea193",
      "1a258e83417e4b3c819097c8bf9ea7ab",
      "d48048cd43594ae4b60c1386006ed40a",
      "68b47cf86d774bf0851291b52d3fc205",
      "b3676fa55f934ef1a9ecfa97f4cf8f6d",
      "08c6bc5652d5435a973ee8a2580491b3",
      "76c5a9c1b1fb426ebac79f337f68cf3d",
      "6b260d4d8f8446bc8af4cc67d7b17385",
      "de02aecaa08d4da38b88be315e3f9271",
      "76d3d3af8c474c62a6bd460272c89bed",
      "08d02df4726b4fbebda713a06032a163",
      "ebf0fdfcc59f422b9bb3ab2558761518",
      "e29eda95254b49728e9f0dfa5870d1b6",
      "e8b50ce1e32547f192ac52f5d009210b",
      "2a089df420c34f9b93d91958a5e77271",
      "f83760c4c5404742a545b8e51a1e0707",
      "67b2ec98da4a4313af6147bae9b50690",
      "65da945ed4224770b05e6cf65de5425c",
      "675f644be00c473f9e9e953f148b74bc",
      "894711101339440fa4297179883ac40f",
      "150f1e4d96234509a3d74fd7eb963ae2",
      "69513b66840b4168b4c0f47e4b1f113b",
      "72a07374598d4ce0bc3a9554ab8fe0c1",
      "069f81c909224147a1e020f1fecd61be",
      "225f2397491345a8a93828f4fce0f694",
      "744f7540819546c3ba7c4f7f2746bde0",
      "ee181acf05b54e3d80ad7cfc936d76ec",
      "40c5bcf5ad514c68b6128a599b88a40e",
      "07f3e3ad891845f5bddadd9693497f7c",
      "65a98e0529f944a7b8096bd4abbab126",
      "ac2502befe824eb9bb46d7b35af9d371",
      "83b87fd21b3c481c957d5328bef3b152"
     ]
    },
    "id": "ffD-qO3ONFIN",
    "outputId": "7aa9adfe-10c0-4940-df71-461c09e36b78"
   },
   "outputs": [
    {
     "data": {
      "application/vnd.jupyter.widget-view+json": {
       "model_id": "1f7ce4e7d7ce4eaf9b4190058356860f",
       "version_major": 2,
       "version_minor": 0
      },
      "text/plain": [
       "Summarize dataset:   0%|          | 0/5 [00:00<?, ?it/s]"
      ]
     },
     "metadata": {},
     "output_type": "display_data"
    }
   ],
   "source": [
    "data.toPandas().profile_report()"
   ]
  },
  {
   "cell_type": "markdown",
   "metadata": {
    "id": "ukuOr9mQOOmz"
   },
   "source": [
    "<b>Observations</b>\n",
    "\n",
    "Based on the provided basic descriptive statistics, it is evident that the dataset does not contain any duplicate values; however, there are some missing values present. Analyzing the correlation heat map, we observe a strong positive correlation between life expectancy (the target variable) and education, indicating that countries with higher levels of education tend to have higher life expectancies. On the other hand, there is a significant negative correlation between life expectancy and HIV/AIDS, implying that countries with higher HIV/AIDS prevalence tend to have lower life expectancies."
   ]
  },
  {
   "cell_type": "code",
   "execution_count": null,
   "metadata": {
    "colab": {
     "base_uri": "https://localhost:8080/"
    },
    "id": "dNU1i4YTNm6f",
    "outputId": "b32d848f-4d0d-4633-eb38-c2f8db7b530a"
   },
   "outputs": [],
   "source": [
    "from pyspark.sql.window import Window\n",
    "\n",
    "# Grouping by 'Country' and calculating the mean of 'HIV/AIDS'\n",
    "df1 = data.groupby('Country').agg(F.mean('HIV/AIDS').alias('mean_HIV/AIDS'))\n",
    "\n",
    "# Creating a WindowSpec to rank countries based on the mean of 'HIV/AIDS'\n",
    "windowSpec = Window.orderBy(F.desc('mean_HIV/AIDS'))\n",
    "\n",
    "# Ranking the countries based on the mean of 'HIV/AIDS' and select the top 10\n",
    "top_10_countries = df1.withColumn('rank', F.rank().over(windowSpec)).filter(F.col('rank') <= 10)\n",
    "\n",
    "# Showing the top 10 countries with the highest mean of 'HIV/AIDS'\n",
    "top_10_countries.show()"
   ]
  },
  {
   "cell_type": "markdown",
   "metadata": {
    "id": "latErKcfPBBR"
   },
   "source": [
    "###<b>2. Data Preprocessing"
   ]
  },
  {
   "cell_type": "markdown",
   "metadata": {
    "id": "wMUSBXEZPFe1"
   },
   "source": [
    "####<b>2.1. Imputing missing/Null values"
   ]
  },
  {
   "cell_type": "code",
   "execution_count": null,
   "metadata": {
    "id": "6jCRtATVOkBN"
   },
   "outputs": [],
   "source": [
    "from pyspark.sql.functions import mean\n",
    "\n",
    "# Calculating the mean values for each column\n",
    "mean_population = data.select(mean(\"Population\")).collect()[0][0]\n",
    "mean_Hepatitis_b = data.select(mean(\"Hepatitis B\")).collect()[0][0]\n",
    "mean_polio = data.select(mean(\"Polio\")).collect()[0][0]\n",
    "mean_diphtheria = data.select(mean(\"Diphtheria\")).collect()[0][0]\n",
    "mean_total_expenditure = data.select(mean(\"Total expenditure\")).collect()[0][0]\n",
    "mean_GDP = data.select(mean(\"GDP\")).collect()[0][0]\n",
    "mean_BMI = data.select(mean(\"BMI\")).collect()[0][0]\n",
    "mean_thin = data.select(mean(\"thinness  1-19 years\")).collect()[0][0]\n",
    "mean_alcohol = data.select(mean(\"Alcohol\")).collect()[0][0]\n",
    "mean_schooling = data.select(mean(\"Schooling\")).collect()[0][0]\n",
    "mean_life_expectancy = data.select(mean(\"Life expectancy\")).collect()[0][0]"
   ]
  },
  {
   "cell_type": "code",
   "execution_count": null,
   "metadata": {
    "colab": {
     "base_uri": "https://localhost:8080/"
    },
    "id": "BNfgGT5fPZ6n",
    "outputId": "2e08db7e-88d0-42bb-bcd1-5e873374ff03"
   },
   "outputs": [],
   "source": [
    "\n",
    "# Filling the missing values in each column with the corresponding mean values\n",
    "data = data.na.fill({\n",
    "    'Population': mean_population,\n",
    "    'Hepatitis B': mean_Hepatitis_b,\n",
    "    'Polio': mean_polio,\n",
    "    'Diphtheria': mean_diphtheria,\n",
    "    'Total expenditure': mean_total_expenditure,\n",
    "    'GDP': mean_GDP,\n",
    "    'BMI': mean_BMI,\n",
    "    'thinness  1-19 years': mean_thin,\n",
    "    'Alcohol': mean_alcohol,\n",
    "    'Schooling': mean_schooling,\n",
    "    'Life expectancy': mean_life_expectancy\n",
    "})\n",
    "\n",
    "# Show the cleaned Spark DataFrame\n",
    "data.show(5)"
   ]
  },
  {
   "cell_type": "code",
   "execution_count": null,
   "metadata": {
    "colab": {
     "base_uri": "https://localhost:8080/"
    },
    "id": "xNGMfnrAPqxp",
    "outputId": "e970517b-2dc0-452a-b16f-e8dcf7418470"
   },
   "outputs": [],
   "source": [
    "  # Checking for missing values in the DataFrame.\n",
    "  miss_values = data.select([F.count(F.when(F.col(c).isNull(), c)).alias(c) for c in data.columns])\n",
    "  missing_values_data = miss_values.toPandas().transpose()\n",
    "  missing_values_data.columns = ['Miss Count']\n",
    "\n",
    "  print(missing_values_data)\n"
   ]
  },
  {
   "cell_type": "markdown",
   "metadata": {
    "id": "oPhZ5hR3QND7"
   },
   "source": [
    "####<b>2.2. Replacing the values in the status column"
   ]
  },
  {
   "cell_type": "code",
   "execution_count": null,
   "metadata": {
    "id": "_EOSCtctPwoz"
   },
   "outputs": [],
   "source": [
    "data = data.withColumn('Status', F.when(data['Status'] == 'Developing', 0).otherwise(1))"
   ]
  },
  {
   "cell_type": "code",
   "execution_count": null,
   "metadata": {
    "colab": {
     "base_uri": "https://localhost:8080/"
    },
    "id": "chTd3gBGQDe0",
    "outputId": "50e3f260-8903-4476-ab86-0bcd16a73ebb"
   },
   "outputs": [],
   "source": [
    "data.show(2)"
   ]
  },
  {
   "cell_type": "markdown",
   "metadata": {
    "id": "VMTrYAfoQvr-"
   },
   "source": [
    "###<b>3. EDA"
   ]
  },
  {
   "cell_type": "markdown",
   "metadata": {
    "id": "yY_gbCx8Q0xs"
   },
   "source": [
    "####<b>3.1. Visualizing the life expectanc over country"
   ]
  },
  {
   "cell_type": "code",
   "execution_count": null,
   "metadata": {
    "colab": {
     "base_uri": "https://localhost:8080/",
     "height": 542
    },
    "id": "lbRRks9OQUWQ",
    "outputId": "2c9403e0-4703-43b4-d1e0-b7223f4f999b"
   },
   "outputs": [],
   "source": [
    "import plotly.express as px\n",
    "df_pandas = data.toPandas()\n",
    "df = df_pandas.copy()\n",
    "\n",
    "# Calculating the average life expectancy for each country\n",
    "df_avg_life_expectancy = df.groupby('Country')['Life expectancy'].mean().sort_values(ascending=False).reset_index()\n",
    "\n",
    "# Creating a choropleth map to visualize the average life expectancy by country\n",
    "fig = px.choropleth(df_avg_life_expectancy, locations=\"Country\",\n",
    "                    locationmode='country names',\n",
    "                    color=\"Life expectancy\",\n",
    "                    title=\"Avg Life Expectancy for each Country\",\n",
    "                    hover_name=\"Country\",\n",
    "                    color_continuous_scale=px.colors.sequential.Plasma,\n",
    "                    labels={'Life expectancy': 'Avg Life Expectancy'})\n",
    "\n",
    "# Setting the plot layout to use a dark theme\n",
    "fig.update_layout(template='seaborn')\n",
    "\n",
    "# Plot the choropleth map\n",
    "fig.show()\n"
   ]
  },
  {
   "cell_type": "code",
   "execution_count": null,
   "metadata": {
    "colab": {
     "base_uri": "https://localhost:8080/",
     "height": 542
    },
    "id": "dK2QvQ2EQ-db",
    "outputId": "e18cdc63-fdaa-4625-8cc0-40e53d6556b9"
   },
   "outputs": [],
   "source": [
    "df_avg = df.groupby('Country')[['thinness  1-19 years', 'Life expectancy']].mean().sort_values(by='thinness  1-19 years')\n",
    "\n",
    "fig = px.bar(df_avg.reset_index(), x='Country', y='thinness  1-19 years',\n",
    "             color='Life expectancy',\n",
    "             labels={'thinness  1-19 years':'Average Thinness Prevalence among 1-19 years old', 'Life expectancy':'Average Life Expectancy'},\n",
    "             color_continuous_scale='Bluered_r')\n",
    "\n",
    "fig.update_layout(template='plotly_dark')\n",
    "fig.update_xaxes(categoryorder='total descending')\n",
    "\n",
    "\n",
    "fig.show()"
   ]
  },
  {
   "cell_type": "code",
   "execution_count": null,
   "metadata": {
    "colab": {
     "base_uri": "https://localhost:8080/",
     "height": 449
    },
    "id": "YYwCk2v0ScVQ",
    "outputId": "3a74add0-8875-4d15-b0a8-5a300a37f14e"
   },
   "outputs": [],
   "source": [
    "sns.kdeplot(x=\"Polio\",y=\"Life expectancy\",hue=\"Status\",data=df);"
   ]
  },
  {
   "cell_type": "code",
   "execution_count": null,
   "metadata": {
    "colab": {
     "base_uri": "https://localhost:8080/",
     "height": 542
    },
    "id": "SRwhzyWaS9A8",
    "outputId": "4352016b-016a-43dd-c93f-4d67a980e7c4"
   },
   "outputs": [],
   "source": [
    "figure = px.pie(df, names='Status')\n",
    "figure"
   ]
  },
  {
   "cell_type": "code",
   "execution_count": null,
   "metadata": {
    "colab": {
     "base_uri": "https://localhost:8080/",
     "height": 1000
    },
    "id": "4qjaQLxqTvSR",
    "outputId": "1fa3b4d0-829a-4e31-e0ea-bc48d16e3601"
   },
   "outputs": [],
   "source": [
    "# Compute correlation matrix\n",
    "correlation_matrix = df.corr()\n",
    "\n",
    "# Plot correlation heatmap\n",
    "plt.figure(figsize=(15,15))\n",
    "sns.heatmap(correlation_matrix, annot=True, cmap='coolwarm', fmt=\".3f\", linewidths=0.6)\n",
    "plt.title('Correlation Heatmap')\n",
    "plt.show()\n"
   ]
  },
  {
   "cell_type": "markdown",
   "metadata": {
    "id": "2ELDX2xPUhiJ"
   },
   "source": [
    "\n",
    "\n",
    "1. Year and life expectancy have a positive correlation of approximately 0.17, suggesting that life expectancy has shown a gradual increase over the years.\n",
    "\n",
    "2. The status of the country's development and life expectancy are moderately positively correlated, indicating that developed countries tend to have higher life expectancies compared to developing countries.\n",
    "\n",
    "3. Population does not have a significant correlation with life expectancy, indicating that the size of the population does not strongly influence life expectancy.\n",
    "\n",
    "4. Several vaccination-related variables, such as Hepatitis B, Measles, Polio, and Diphtheria, have modest positive correlations with life expectancy. This suggests that higher vaccination rates may be associated with higher life expectancies in countries.\n",
    "\n",
    "5. HIV/AIDS shows a notable negative correlation with life expectancy, indicating that countries with higher HIV/AIDS prevalence tend to have lower life expectancies.\n",
    "\n",
    "6. Infant deaths and under-five deaths exhibit strong negative correlations with life expectancy, confirming that countries with higher infant and child mortality rates generally have lower life expectancies.\n",
    "\n",
    "7. Total expenditure on health is positively correlated with life expectancy, indicating that higher investments in healthcare may lead to increased life expectancies.\n",
    "\n",
    "8. GDP (Gross Domestic Product) also demonstrates a significant positive correlation with life expectancy, suggesting that economic prosperity could be linked to higher life expectancies.\n",
    "\n",
    "9. BMI (Body Mass Index) exhibits a positive correlation with life expectancy, implying that countries with healthier body mass indices tend to have higher life expectancies.\n",
    "\n",
    "10. Conversely, thinness prevalence among people aged 1-19 years shows a strong negative correlation with life expectancy. This suggests that higher thinness prevalence might be associated with lower life expectancies.\n",
    "\n",
    "11. Alcohol consumption and schooling are positively correlated with life expectancy, indicating that higher alcohol consumption rates and better educational opportunities might contribute to increased life expectancies in countries.\n",
    "\n"
   ]
  },
  {
   "cell_type": "markdown",
   "metadata": {
    "id": "rNNG52z9U8iu"
   },
   "source": [
    "###<b>4. Feature Engineering"
   ]
  },
  {
   "cell_type": "markdown",
   "metadata": {
    "id": "w0fyduGXU4nZ"
   },
   "source": [
    "####<b>4.1. Dropping columns with low correlation"
   ]
  },
  {
   "cell_type": "code",
   "execution_count": null,
   "metadata": {
    "colab": {
     "base_uri": "https://localhost:8080/"
    },
    "id": "ShNbkrLiUDcQ",
    "outputId": "55e7dcc3-b825-48a3-ca89-776e710fcf1b"
   },
   "outputs": [],
   "source": [
    "\n",
    "correlation_matrix = df.corr()\n",
    "\n",
    "# Threshold for weak correlation\n",
    "threshold = 0.1\n",
    "\n",
    "# Get the columns to drop based on weak correlation\n",
    "columns_to_drop = []\n",
    "for column in correlation_matrix.columns:\n",
    "    if abs(correlation_matrix['Life expectancy'][column]) < threshold and column != 'Life expectancy':\n",
    "        columns_to_drop.append(column)\n",
    "\n",
    "# Drop the columns with weak correlation from the DataFrame\n",
    "df = df.drop(columns=columns_to_drop)\n",
    "\n",
    "# Display the remaining columns in the filtered DataFrame\n",
    "print(df.columns)\n"
   ]
  },
  {
   "cell_type": "code",
   "execution_count": null,
   "metadata": {
    "colab": {
     "base_uri": "https://localhost:8080/"
    },
    "id": "3a0ViocIVHxd",
    "outputId": "ac4d7212-92e5-4b03-bcdd-32d45894da68"
   },
   "outputs": [],
   "source": [
    "df.Year.value_counts()"
   ]
  },
  {
   "cell_type": "code",
   "execution_count": null,
   "metadata": {
    "colab": {
     "base_uri": "https://localhost:8080/"
    },
    "id": "lF7HDWuFVdns",
    "outputId": "b9eb5dfa-b114-4943-f824-96dd75b2d81a"
   },
   "outputs": [],
   "source": [
    "df.Country.value_counts()"
   ]
  },
  {
   "cell_type": "markdown",
   "metadata": {
    "id": "9NcdqYm6Vl8s"
   },
   "source": [
    "- All different categries have same vallues in both these features so we would remove it from data"
   ]
  },
  {
   "cell_type": "code",
   "execution_count": null,
   "metadata": {
    "colab": {
     "base_uri": "https://localhost:8080/",
     "height": 598
    },
    "id": "Q8qdV9CCWJ1H",
    "outputId": "1bc600ea-fbad-49a3-eb70-9c4d6d2a2503"
   },
   "outputs": [],
   "source": [
    "# Create a donut plot for Status\n",
    "plt.figure(figsize=(7, 7))\n",
    "plt.pie(df['Status'].value_counts(), labels=df['Status'].unique(),\n",
    "        autopct='%1.1f%%', startangle=90, wedgeprops=dict(width=0.3))\n",
    "plt.gca().add_artist(plt.Circle((0,0),0.2,fc='white'))\n",
    "plt.title(\"Donut Plot of Status\")\n",
    "plt.show()\n"
   ]
  },
  {
   "cell_type": "code",
   "execution_count": null,
   "metadata": {
    "id": "AEijHDfCVhPz"
   },
   "outputs": [],
   "source": [
    "df.drop(['Year','Country'], axis=1, inplace =True)"
   ]
  },
  {
   "cell_type": "code",
   "execution_count": null,
   "metadata": {
    "colab": {
     "base_uri": "https://localhost:8080/",
     "height": 305
    },
    "id": "XyVsg6bmV3PL",
    "outputId": "cedc0d16-833c-4c7e-c9c0-db9ede359b72"
   },
   "outputs": [],
   "source": [
    "df.head()"
   ]
  },
  {
   "cell_type": "code",
   "execution_count": null,
   "metadata": {
    "colab": {
     "base_uri": "https://localhost:8080/"
    },
    "id": "AO-aacRoWdc9",
    "outputId": "56866703-42ee-4cd5-86d4-8af88e496ffb"
   },
   "outputs": [],
   "source": [
    "sp_df = spark.createDataFrame(df)\n",
    "sp_df.show(3)"
   ]
  },
  {
   "cell_type": "markdown",
   "metadata": {
    "id": "BKOZWg50jI3h"
   },
   "source": [
    "####<b>4.2. Scaling of data"
   ]
  },
  {
   "cell_type": "code",
   "execution_count": 33,
   "metadata": {
    "colab": {
     "base_uri": "https://localhost:8080/"
    },
    "id": "ItvHN_dNjN9N",
    "outputId": "e0387074-ead2-4b89-8d42-5e2793b60280"
   },
   "outputs": [
    {
     "ename": "NameError",
     "evalue": "name 'sp_df' is not defined",
     "output_type": "error",
     "traceback": [
      "\u001b[0;31m---------------------------------------------------------------------------\u001b[0m",
      "\u001b[0;31mNameError\u001b[0m                                 Traceback (most recent call last)",
      "Cell \u001b[0;32mIn[33], line 3\u001b[0m\n\u001b[1;32m      1\u001b[0m \u001b[38;5;28;01mfrom\u001b[39;00m \u001b[38;5;21;01mpyspark\u001b[39;00m\u001b[38;5;21;01m.\u001b[39;00m\u001b[38;5;21;01mml\u001b[39;00m\u001b[38;5;21;01m.\u001b[39;00m\u001b[38;5;21;01mfeature\u001b[39;00m \u001b[38;5;28;01mimport\u001b[39;00m VectorAssembler, StandardScaler\n\u001b[0;32m----> 3\u001b[0m input_features \u001b[38;5;241m=\u001b[39m [col \u001b[38;5;28;01mfor\u001b[39;00m col \u001b[38;5;129;01min\u001b[39;00m \u001b[43msp_df\u001b[49m\u001b[38;5;241m.\u001b[39mcolumns \u001b[38;5;28;01mif\u001b[39;00m col \u001b[38;5;241m!=\u001b[39m \u001b[38;5;124m'\u001b[39m\u001b[38;5;124mLife expectancy\u001b[39m\u001b[38;5;124m'\u001b[39m]\n\u001b[1;32m      5\u001b[0m \u001b[38;5;66;03m# Assemble features into a single vector column named 'features'\u001b[39;00m\n\u001b[1;32m      6\u001b[0m vector_assembler \u001b[38;5;241m=\u001b[39m VectorAssembler(inputCols\u001b[38;5;241m=\u001b[39minput_features, outputCol\u001b[38;5;241m=\u001b[39m\u001b[38;5;124m'\u001b[39m\u001b[38;5;124mfeatures\u001b[39m\u001b[38;5;124m'\u001b[39m)\n",
      "\u001b[0;31mNameError\u001b[0m: name 'sp_df' is not defined"
     ]
    }
   ],
   "source": [
    "from pyspark.ml.feature import VectorAssembler, StandardScaler\n",
    "\n",
    "input_features = [col for col in sp_df.columns if col != 'Life expectancy']\n",
    "\n",
    "# Assemble features into a single vector column named 'features'\n",
    "vector_assembler = VectorAssembler(inputCols=input_features, outputCol='features')\n",
    "\n",
    "# Fit the vector assembler to the data\n",
    "assembled_data = vector_assembler.transform(sp_df)\n",
    "\n",
    "# Scale the features\n",
    "scaler = StandardScaler(inputCol='features', outputCol='scaled_features')\n",
    "\n",
    "# Fit the scaler to the data\n",
    "scaler_model = scaler.fit(assembled_data)\n",
    "\n",
    "# Transform the data with scaled features\n",
    "scaled_data = scaler_model.transform(assembled_data)\n",
    "\n",
    "# Show the first few rows of the scaled data\n",
    "scaled_data.show(5)"
   ]
  },
  {
   "cell_type": "markdown",
   "metadata": {
    "id": "mGkZtEErjU8T"
   },
   "source": [
    "####<b>4.3. Splitting the data"
   ]
  },
  {
   "cell_type": "code",
   "execution_count": 34,
   "metadata": {
    "id": "lHNw_GwwjYAO"
   },
   "outputs": [
    {
     "ename": "NameError",
     "evalue": "name 'scaled_data' is not defined",
     "output_type": "error",
     "traceback": [
      "\u001b[0;31m---------------------------------------------------------------------------\u001b[0m",
      "\u001b[0;31mNameError\u001b[0m                                 Traceback (most recent call last)",
      "Cell \u001b[0;32mIn[34], line 2\u001b[0m\n\u001b[1;32m      1\u001b[0m \u001b[38;5;66;03m# Splitting the data into train and test sets\u001b[39;00m\n\u001b[0;32m----> 2\u001b[0m train_data, test_data \u001b[38;5;241m=\u001b[39m \u001b[43mscaled_data\u001b[49m\u001b[38;5;241m.\u001b[39mrandomSplit([\u001b[38;5;241m0.7\u001b[39m, \u001b[38;5;241m0.3\u001b[39m], seed\u001b[38;5;241m=\u001b[39m\u001b[38;5;241m123\u001b[39m)\n",
      "\u001b[0;31mNameError\u001b[0m: name 'scaled_data' is not defined"
     ]
    }
   ],
   "source": [
    "# Splitting the data into train and test sets\n",
    "train_data, test_data = scaled_data.randomSplit([0.7, 0.3], seed=123)"
   ]
  },
  {
   "cell_type": "markdown",
   "metadata": {
    "id": "Wb8ACHq_ie2x"
   },
   "source": [
    "###<b>5. Modeling"
   ]
  },
  {
   "cell_type": "code",
   "execution_count": 35,
   "metadata": {
    "id": "uIq6-sgclPsG"
   },
   "outputs": [
    {
     "ename": "ModuleNotFoundError",
     "evalue": "No module named 'matplotlib'",
     "output_type": "error",
     "traceback": [
      "\u001b[0;31m---------------------------------------------------------------------------\u001b[0m",
      "\u001b[0;31mModuleNotFoundError\u001b[0m                       Traceback (most recent call last)",
      "Cell \u001b[0;32mIn[35], line 3\u001b[0m\n\u001b[1;32m      1\u001b[0m \u001b[38;5;28;01mfrom\u001b[39;00m \u001b[38;5;21;01mpyspark\u001b[39;00m\u001b[38;5;21;01m.\u001b[39;00m\u001b[38;5;21;01mml\u001b[39;00m\u001b[38;5;21;01m.\u001b[39;00m\u001b[38;5;21;01mregression\u001b[39;00m \u001b[38;5;28;01mimport\u001b[39;00m LinearRegression, RandomForestRegressor, GBTRegressor, GeneralizedLinearRegression\n\u001b[1;32m      2\u001b[0m \u001b[38;5;28;01mfrom\u001b[39;00m \u001b[38;5;21;01mpyspark\u001b[39;00m\u001b[38;5;21;01m.\u001b[39;00m\u001b[38;5;21;01mml\u001b[39;00m\u001b[38;5;21;01m.\u001b[39;00m\u001b[38;5;21;01mevaluation\u001b[39;00m \u001b[38;5;28;01mimport\u001b[39;00m RegressionEvaluator\n\u001b[0;32m----> 3\u001b[0m \u001b[38;5;28;01mimport\u001b[39;00m \u001b[38;5;21;01mmatplotlib\u001b[39;00m\u001b[38;5;21;01m.\u001b[39;00m\u001b[38;5;21;01mpyplot\u001b[39;00m \u001b[38;5;28;01mas\u001b[39;00m \u001b[38;5;21;01mplt\u001b[39;00m\n",
      "\u001b[0;31mModuleNotFoundError\u001b[0m: No module named 'matplotlib'"
     ]
    }
   ],
   "source": [
    "from pyspark.ml.regression import LinearRegression, RandomForestRegressor, GBTRegressor, GeneralizedLinearRegression\n",
    "from pyspark.ml.evaluation import RegressionEvaluator\n",
    "import matplotlib.pyplot as plt\n",
    "\n"
   ]
  },
  {
   "cell_type": "code",
   "execution_count": 36,
   "metadata": {
    "id": "tNzcUabrlb0Q"
   },
   "outputs": [],
   "source": [
    "\n",
    "# plt.xlabel('Actual Life Expectancy')\n",
    "# plt.ylabel('Predicted Life Expectancy')\n",
    "# plt.legend()\n",
    "# plt.title('Actual vs. Predicted Life Expectancy for Different Models')\n",
    "# plt.show()\n",
    "\n",
    "# # Plot RMSE values\n",
    "# plt.bar(model_names, rmse_values)\n",
    "# plt.xlabel('Model')\n",
    "# plt.ylabel('RMSE')\n",
    "# plt.title('Root Mean Squared Error (RMSE) for Different Models')\n",
    "# plt.xticks(rotation=45)\n",
    "# plt.show()\n"
   ]
  },
  {
   "cell_type": "code",
   "execution_count": 37,
   "metadata": {
    "id": "JRJHetdWn1Yc"
   },
   "outputs": [
    {
     "ename": "NameError",
     "evalue": "name 'train_data' is not defined",
     "output_type": "error",
     "traceback": [
      "\u001b[0;31m---------------------------------------------------------------------------\u001b[0m",
      "\u001b[0;31mNameError\u001b[0m                                 Traceback (most recent call last)",
      "Cell \u001b[0;32mIn[37], line 8\u001b[0m\n\u001b[1;32m      5\u001b[0m generalized_linear_regression \u001b[38;5;241m=\u001b[39m GeneralizedLinearRegression(featuresCol\u001b[38;5;241m=\u001b[39m\u001b[38;5;124m'\u001b[39m\u001b[38;5;124mscaled_features\u001b[39m\u001b[38;5;124m'\u001b[39m, labelCol\u001b[38;5;241m=\u001b[39m\u001b[38;5;124m'\u001b[39m\u001b[38;5;124mLife expectancy\u001b[39m\u001b[38;5;124m'\u001b[39m, family\u001b[38;5;241m=\u001b[39m\u001b[38;5;124m'\u001b[39m\u001b[38;5;124mgaussian\u001b[39m\u001b[38;5;124m'\u001b[39m)\n\u001b[1;32m      7\u001b[0m \u001b[38;5;66;03m# Fit the models to the training data\u001b[39;00m\n\u001b[0;32m----> 8\u001b[0m linear_regression_model \u001b[38;5;241m=\u001b[39m linear_regression\u001b[38;5;241m.\u001b[39mfit(\u001b[43mtrain_data\u001b[49m)\n\u001b[1;32m      9\u001b[0m random_forest_model \u001b[38;5;241m=\u001b[39m random_forest\u001b[38;5;241m.\u001b[39mfit(train_data)\n\u001b[1;32m     10\u001b[0m gradient_boosted_trees_model \u001b[38;5;241m=\u001b[39m gradient_boosted_trees\u001b[38;5;241m.\u001b[39mfit(train_data)\n",
      "\u001b[0;31mNameError\u001b[0m: name 'train_data' is not defined"
     ]
    }
   ],
   "source": [
    "# Create and train the models\n",
    "linear_regression = LinearRegression(featuresCol='scaled_features', labelCol='Life expectancy')\n",
    "random_forest = RandomForestRegressor(featuresCol='scaled_features', labelCol='Life expectancy')\n",
    "gradient_boosted_trees = GBTRegressor(featuresCol='scaled_features', labelCol='Life expectancy')\n",
    "generalized_linear_regression = GeneralizedLinearRegression(featuresCol='scaled_features', labelCol='Life expectancy', family='gaussian')\n",
    "\n",
    "# Fit the models to the training data\n",
    "linear_regression_model = linear_regression.fit(train_data)\n",
    "random_forest_model = random_forest.fit(train_data)\n",
    "gradient_boosted_trees_model = gradient_boosted_trees.fit(train_data)\n",
    "generalized_linear_regression_model = generalized_linear_regression.fit(train_data)\n"
   ]
  },
  {
   "cell_type": "code",
   "execution_count": 38,
   "metadata": {
    "id": "mGmpaiDOoDaD"
   },
   "outputs": [
    {
     "ename": "NameError",
     "evalue": "name 'linear_regression_model' is not defined",
     "output_type": "error",
     "traceback": [
      "\u001b[0;31m---------------------------------------------------------------------------\u001b[0m",
      "\u001b[0;31mNameError\u001b[0m                                 Traceback (most recent call last)",
      "Cell \u001b[0;32mIn[38], line 2\u001b[0m\n\u001b[1;32m      1\u001b[0m \u001b[38;5;66;03m# Make predictions on the test data\u001b[39;00m\n\u001b[0;32m----> 2\u001b[0m linear_regression_predictions \u001b[38;5;241m=\u001b[39m \u001b[43mlinear_regression_model\u001b[49m\u001b[38;5;241m.\u001b[39mtransform(test_data)\n\u001b[1;32m      3\u001b[0m random_forest_predictions \u001b[38;5;241m=\u001b[39m random_forest_model\u001b[38;5;241m.\u001b[39mtransform(test_data)\n\u001b[1;32m      4\u001b[0m gradient_boosted_trees_predictions \u001b[38;5;241m=\u001b[39m gradient_boosted_trees_model\u001b[38;5;241m.\u001b[39mtransform(test_data)\n",
      "\u001b[0;31mNameError\u001b[0m: name 'linear_regression_model' is not defined"
     ]
    }
   ],
   "source": [
    "# Make predictions on the test data\n",
    "linear_regression_predictions = linear_regression_model.transform(test_data)\n",
    "random_forest_predictions = random_forest_model.transform(test_data)\n",
    "gradient_boosted_trees_predictions = gradient_boosted_trees_model.transform(test_data)\n",
    "generalized_linear_regression_predictions = generalized_linear_regression_model.transform(test_data)"
   ]
  },
  {
   "cell_type": "code",
   "execution_count": 39,
   "metadata": {
    "colab": {
     "base_uri": "https://localhost:8080/"
    },
    "id": "y0fbS89qm3dX",
    "outputId": "cbe3c0a7-10d2-41c5-d656-51849b438c4e"
   },
   "outputs": [
    {
     "ename": "NameError",
     "evalue": "name 'linear_regression_predictions' is not defined",
     "output_type": "error",
     "traceback": [
      "\u001b[0;31m---------------------------------------------------------------------------\u001b[0m",
      "\u001b[0;31mNameError\u001b[0m                                 Traceback (most recent call last)",
      "Cell \u001b[0;32mIn[39], line 3\u001b[0m\n\u001b[1;32m      1\u001b[0m \u001b[38;5;66;03m# Evaluate the models using RMSE, MSE, and MAE\u001b[39;00m\n\u001b[1;32m      2\u001b[0m evaluator \u001b[38;5;241m=\u001b[39m RegressionEvaluator(labelCol\u001b[38;5;241m=\u001b[39m\u001b[38;5;124m'\u001b[39m\u001b[38;5;124mLife expectancy\u001b[39m\u001b[38;5;124m'\u001b[39m, metricName\u001b[38;5;241m=\u001b[39m\u001b[38;5;124m'\u001b[39m\u001b[38;5;124mrmse\u001b[39m\u001b[38;5;124m'\u001b[39m)\n\u001b[0;32m----> 3\u001b[0m linear_regression_rmse \u001b[38;5;241m=\u001b[39m evaluator\u001b[38;5;241m.\u001b[39mevaluate(\u001b[43mlinear_regression_predictions\u001b[49m)\n\u001b[1;32m      4\u001b[0m random_forest_rmse \u001b[38;5;241m=\u001b[39m evaluator\u001b[38;5;241m.\u001b[39mevaluate(random_forest_predictions)\n\u001b[1;32m      5\u001b[0m gradient_boosted_trees_rmse \u001b[38;5;241m=\u001b[39m evaluator\u001b[38;5;241m.\u001b[39mevaluate(gradient_boosted_trees_predictions)\n",
      "\u001b[0;31mNameError\u001b[0m: name 'linear_regression_predictions' is not defined"
     ]
    }
   ],
   "source": [
    "# Evaluate the models using RMSE, MSE, and MAE\n",
    "evaluator = RegressionEvaluator(labelCol='Life expectancy', metricName='rmse')\n",
    "linear_regression_rmse = evaluator.evaluate(linear_regression_predictions)\n",
    "random_forest_rmse = evaluator.evaluate(random_forest_predictions)\n",
    "gradient_boosted_trees_rmse = evaluator.evaluate(gradient_boosted_trees_predictions)\n",
    "generalized_linear_regression_rmse = evaluator.evaluate(generalized_linear_regression_predictions)\n",
    "\n",
    "evaluator.setMetricName('mse')\n",
    "linear_regression_mse = evaluator.evaluate(linear_regression_predictions)\n",
    "random_forest_mse = evaluator.evaluate(random_forest_predictions)\n",
    "gradient_boosted_trees_mse = evaluator.evaluate(gradient_boosted_trees_predictions)\n",
    "generalized_linear_regression_mse = evaluator.evaluate(generalized_linear_regression_predictions)\n",
    "\n",
    "evaluator.setMetricName('mae')\n",
    "linear_regression_mae = evaluator.evaluate(linear_regression_predictions)\n",
    "random_forest_mae = evaluator.evaluate(random_forest_predictions)\n",
    "gradient_boosted_trees_mae = evaluator.evaluate(gradient_boosted_trees_predictions)\n",
    "generalized_linear_regression_mae = evaluator.evaluate(generalized_linear_regression_predictions)\n",
    "\n",
    "# Print the evaluation metrics\n",
    "print(\"Linear Regression - RMSE:\", linear_regression_rmse)\n",
    "print(\"Random Forest - RMSE:\", random_forest_rmse)\n",
    "print(\"Gradient Boosted Trees - RMSE:\", gradient_boosted_trees_rmse)\n",
    "print(\"Generalized Linear Regressor - RMSE:\", generalized_linear_regression_rmse)\n",
    "\n",
    "print(\"Linear Regression - MSE:\", linear_regression_mse)\n",
    "print(\"Random Forest - MSE:\", random_forest_mse)\n",
    "print(\"Gradient Boosted Trees - MSE:\", gradient_boosted_trees_mse)\n",
    "print(\"Generalized Linear Regressor - MSE:\", generalized_linear_regression_mse)\n",
    "\n",
    "print(\"Linear Regression - MAE:\", linear_regression_mae)\n",
    "print(\"Random Forest - MAE:\", random_forest_mae)\n",
    "print(\"Gradient Boosted Trees - MAE:\", gradient_boosted_trees_mae)\n",
    "print(\"Generalized Linear Regressor - MAE:\", generalized_linear_regression_mae)\n",
    "\n"
   ]
  },
  {
   "cell_type": "code",
   "execution_count": 40,
   "metadata": {
    "colab": {
     "base_uri": "https://localhost:8080/",
     "height": 384
    },
    "id": "ZGCtbbkUm3h6",
    "outputId": "11654266-09fe-44d5-e768-47add2d0b30d"
   },
   "outputs": [
    {
     "ename": "NameError",
     "evalue": "name 'plt' is not defined",
     "output_type": "error",
     "traceback": [
      "\u001b[0;31m---------------------------------------------------------------------------\u001b[0m",
      "\u001b[0;31mNameError\u001b[0m                                 Traceback (most recent call last)",
      "Cell \u001b[0;32mIn[40], line 2\u001b[0m\n\u001b[1;32m      1\u001b[0m \u001b[38;5;66;03m# Scatter plots\u001b[39;00m\n\u001b[0;32m----> 2\u001b[0m \u001b[43mplt\u001b[49m\u001b[38;5;241m.\u001b[39mfigure(figsize\u001b[38;5;241m=\u001b[39m(\u001b[38;5;241m15\u001b[39m, \u001b[38;5;241m5\u001b[39m))\n\u001b[1;32m      4\u001b[0m \u001b[38;5;66;03m# Linear Regression\u001b[39;00m\n\u001b[1;32m      5\u001b[0m plt\u001b[38;5;241m.\u001b[39msubplot(\u001b[38;5;241m1\u001b[39m, \u001b[38;5;241m4\u001b[39m, \u001b[38;5;241m1\u001b[39m)\n",
      "\u001b[0;31mNameError\u001b[0m: name 'plt' is not defined"
     ]
    }
   ],
   "source": [
    "\n",
    "# Scatter plots\n",
    "plt.figure(figsize=(15, 5))\n",
    "\n",
    "# Linear Regression\n",
    "plt.subplot(1, 4, 1)\n",
    "plt.scatter(test_data.select('Life expectancy').collect(), linear_regression_predictions.select('prediction').collect(), alpha=0.5)\n",
    "plt.xlabel('Actual Life Expectancy')\n",
    "plt.ylabel('Predicted Life Expectancy')\n",
    "plt.title('Linear Regression')\n",
    "\n",
    "# Random Forest\n",
    "plt.subplot(1, 4, 2)\n",
    "plt.scatter(test_data.select('Life expectancy').collect(), random_forest_predictions.select('prediction').collect(), alpha=0.5)\n",
    "plt.xlabel('Actual Life Expectancy')\n",
    "plt.ylabel('Predicted Life Expectancy')\n",
    "plt.title('Random Forest')\n",
    "\n",
    "# Gradient Boosted Trees\n",
    "plt.subplot(1, 4, 3)\n",
    "plt.scatter(test_data.select('Life expectancy').collect(), gradient_boosted_trees_predictions.select('prediction').collect(), alpha=0.5)\n",
    "plt.xlabel('Actual Life Expectancy')\n",
    "plt.ylabel('Predicted Life Expectancy')\n",
    "plt.title('Gradient Boosted Trees')\n",
    "\n",
    "# Support Vector Regression\n",
    "plt.subplot(1, 4, 4)\n",
    "plt.scatter(test_data.select('Life expectancy').collect(), generalized_linear_regression_predictions.select('prediction').collect(), alpha=0.5)\n",
    "plt.xlabel('Actual Life Expectancy')\n",
    "plt.ylabel('Predicted Life Expectancy')\n",
    "plt.title('Generalized Linear Regression')\n",
    "\n",
    "plt.tight_layout()\n",
    "plt.show()\n"
   ]
  },
  {
   "cell_type": "code",
   "execution_count": 41,
   "metadata": {
    "colab": {
     "base_uri": "https://localhost:8080/",
     "height": 175
    },
    "id": "Jb16Pm6Qm3j4",
    "outputId": "854c921b-2626-4c32-f3c1-daf62399a414"
   },
   "outputs": [
    {
     "ename": "NameError",
     "evalue": "name 'linear_regression_mse' is not defined",
     "output_type": "error",
     "traceback": [
      "\u001b[0;31m---------------------------------------------------------------------------\u001b[0m",
      "\u001b[0;31mNameError\u001b[0m                                 Traceback (most recent call last)",
      "Cell \u001b[0;32mIn[41], line 4\u001b[0m\n\u001b[1;32m      1\u001b[0m \u001b[38;5;66;03m# Create the comparison table\u001b[39;00m\n\u001b[1;32m      2\u001b[0m metrics_data \u001b[38;5;241m=\u001b[39m {\n\u001b[1;32m      3\u001b[0m     \u001b[38;5;124m'\u001b[39m\u001b[38;5;124mModel\u001b[39m\u001b[38;5;124m'\u001b[39m: [\u001b[38;5;124m'\u001b[39m\u001b[38;5;124mLinear Regression\u001b[39m\u001b[38;5;124m'\u001b[39m, \u001b[38;5;124m'\u001b[39m\u001b[38;5;124mRandom Forest Regression\u001b[39m\u001b[38;5;124m'\u001b[39m, \u001b[38;5;124m'\u001b[39m\u001b[38;5;124mGradient Boosted Tree Regression\u001b[39m\u001b[38;5;124m'\u001b[39m,\u001b[38;5;124m'\u001b[39m\u001b[38;5;124mGeneralized Linear Regression\u001b[39m\u001b[38;5;124m'\u001b[39m],\n\u001b[0;32m----> 4\u001b[0m     \u001b[38;5;124m'\u001b[39m\u001b[38;5;124mMSE\u001b[39m\u001b[38;5;124m'\u001b[39m: [\u001b[43mlinear_regression_mse\u001b[49m, random_forest_mse, gradient_boosted_trees_mse, generalized_linear_regression_mse],\n\u001b[1;32m      5\u001b[0m     \u001b[38;5;124m'\u001b[39m\u001b[38;5;124mRMSE\u001b[39m\u001b[38;5;124m'\u001b[39m: [linear_regression_rmse, random_forest_rmse, gradient_boosted_trees_rmse, generalized_linear_regression_rmse],\n\u001b[1;32m      6\u001b[0m     \u001b[38;5;124m'\u001b[39m\u001b[38;5;124mMAE\u001b[39m\u001b[38;5;124m'\u001b[39m: [linear_regression_mae, random_forest_mae, gradient_boosted_trees_mae, generalized_linear_regression_mae]\n\u001b[1;32m      7\u001b[0m }\n\u001b[1;32m      9\u001b[0m \u001b[38;5;66;03m# Create the pandas DataFrame\u001b[39;00m\n\u001b[1;32m     10\u001b[0m metrics_df \u001b[38;5;241m=\u001b[39m pd\u001b[38;5;241m.\u001b[39mDataFrame(metrics_data)\n",
      "\u001b[0;31mNameError\u001b[0m: name 'linear_regression_mse' is not defined"
     ]
    }
   ],
   "source": [
    "\n",
    "# Create the comparison table\n",
    "metrics_data = {\n",
    "    'Model': ['Linear Regression', 'Random Forest Regression', 'Gradient Boosted Tree Regression','Generalized Linear Regression'],\n",
    "    'MSE': [linear_regression_mse, random_forest_mse, gradient_boosted_trees_mse, generalized_linear_regression_mse],\n",
    "    'RMSE': [linear_regression_rmse, random_forest_rmse, gradient_boosted_trees_rmse, generalized_linear_regression_rmse],\n",
    "    'MAE': [linear_regression_mae, random_forest_mae, gradient_boosted_trees_mae, generalized_linear_regression_mae]\n",
    "}\n",
    "\n",
    "# Create the pandas DataFrame\n",
    "metrics_df = pd.DataFrame(metrics_data)\n",
    "\n",
    "# Display the table\n",
    "metrics_df"
   ]
  },
  {
   "cell_type": "markdown",
   "metadata": {
    "id": "wgo0mYjKpxau"
   },
   "source": [
    "<b>Observation</b>\n",
    "\n",
    "1. Linear Regression: The linear regression model produced an MSE of 19.76, RMSE of 4.45, and MAE of 3.42. While this model provides a simple baseline for life expectancy prediction, it seems to have a relatively higher error, which indicates that the linear relationship may not fully capture the complexities of the data.\n",
    "\n",
    "2. Random Forest Regression: The random forest regression model demonstrated improved performance with an MSE of 10.46, RMSE of 3.23, and MAE of 2.41. The random forest approach harnesses the power of multiple decision trees to reduce overfitting and improve accuracy, making it a more robust option compared to linear regression.\n",
    "\n",
    "3. Gradient Boosted Tree Regression: Among the evaluated models, the gradient boosted tree regression stood out as the best performer. It achieved an MSE of 8.65, RMSE of 2.94, and MAE of 2.16. The gradient boosting technique creates an ensemble of weak learners, iteratively improving the model's accuracy, which is evident from its lower error metrics.\n",
    "\n",
    "4. Generalized Linear Regression: Interestingly, the generalized linear regression model produced the same results as the linear regression, with an MSE of 19.76, RMSE of 4.45, and MAE of 3.42. This similarity suggests that the additional complexity introduced by the generalization did not significantly impact the model's performance in comparison to the standard linear regression.\n",
    "\n",
    "Overall, the gradient boosted tree regression model emerged as the most promising choice for predicting life expectancy, offering the lowest MSE, RMSE, and MAE among the evaluated models. However, further fine-tuning can enhance the model's performance even more and improve the accuracy of life expectancy predictions."
   ]
  },
  {
   "cell_type": "markdown",
   "metadata": {
    "id": "6FSw-eabqCzZ"
   },
   "source": [
    "###<b>6. Hyper parameter tuning best model"
   ]
  },
  {
   "cell_type": "code",
   "execution_count": 42,
   "metadata": {
    "colab": {
     "base_uri": "https://localhost:8080/"
    },
    "id": "Pih3SphUm3mM",
    "outputId": "0208e54d-859d-4dbf-fe07-399338994c4f"
   },
   "outputs": [
    {
     "ename": "NameError",
     "evalue": "name 'train_data' is not defined",
     "output_type": "error",
     "traceback": [
      "\u001b[0;31m---------------------------------------------------------------------------\u001b[0m",
      "\u001b[0;31mNameError\u001b[0m                                 Traceback (most recent call last)",
      "Cell \u001b[0;32mIn[42], line 25\u001b[0m\n\u001b[1;32m     19\u001b[0m crossval \u001b[38;5;241m=\u001b[39m CrossValidator(estimator\u001b[38;5;241m=\u001b[39mgbt,\n\u001b[1;32m     20\u001b[0m                           estimatorParamMaps\u001b[38;5;241m=\u001b[39mparamGrid,\n\u001b[1;32m     21\u001b[0m                           evaluator\u001b[38;5;241m=\u001b[39mevaluator,\n\u001b[1;32m     22\u001b[0m                           numFolds\u001b[38;5;241m=\u001b[39m\u001b[38;5;241m3\u001b[39m)\n\u001b[1;32m     24\u001b[0m \u001b[38;5;66;03m# Fit the model with CrossValidator\u001b[39;00m\n\u001b[0;32m---> 25\u001b[0m cv_model \u001b[38;5;241m=\u001b[39m crossval\u001b[38;5;241m.\u001b[39mfit(\u001b[43mtrain_data\u001b[49m)\n\u001b[1;32m     27\u001b[0m \u001b[38;5;66;03m# Get the best model from CrossValidator\u001b[39;00m\n\u001b[1;32m     28\u001b[0m best_model \u001b[38;5;241m=\u001b[39m cv_model\u001b[38;5;241m.\u001b[39mbestModel\n",
      "\u001b[0;31mNameError\u001b[0m: name 'train_data' is not defined"
     ]
    }
   ],
   "source": [
    "from pyspark.ml.tuning import ParamGridBuilder, CrossValidator\n",
    "from pyspark.ml.evaluation import RegressionEvaluator\n",
    "from pyspark.ml.regression import GBTRegressor\n",
    "\n",
    "# Initialize the Gradient Boosted Tree Regressor\n",
    "gbt = GBTRegressor(featuresCol='scaled_features', labelCol='Life expectancy', maxIter=10)\n",
    "\n",
    "# Define the hyperparameter grid\n",
    "paramGrid = (ParamGridBuilder()\n",
    "             .addGrid(gbt.maxDepth, [5, 10, 15])\n",
    "             .addGrid(gbt.maxBins, [16, 32, 48])\n",
    "             .addGrid(gbt.stepSize, [0.05, 0.1, 0.2])\n",
    "             .build())\n",
    "\n",
    "# Define the evaluator\n",
    "evaluator = RegressionEvaluator(metricName='rmse', labelCol='Life expectancy')\n",
    "\n",
    "# Initialize the CrossValidator\n",
    "crossval = CrossValidator(estimator=gbt,\n",
    "                          estimatorParamMaps=paramGrid,\n",
    "                          evaluator=evaluator,\n",
    "                          numFolds=3)\n",
    "\n",
    "# Fit the model with CrossValidator\n",
    "cv_model = crossval.fit(train_data)\n",
    "\n",
    "# Get the best model from CrossValidator\n",
    "best_model = cv_model.bestModel\n",
    "\n",
    "# Print the best hyperparameters\n",
    "print(\"Best Max Depth: \", best_model.getMaxDepth())\n",
    "print(\"Best Max Bins: \", best_model.getMaxBins())\n",
    "print(\"Best Step Size: \", best_model.getStepSize())\n"
   ]
  },
  {
   "cell_type": "code",
   "execution_count": 43,
   "metadata": {
    "colab": {
     "base_uri": "https://localhost:8080/"
    },
    "id": "p9RFMK3rm3pT",
    "outputId": "ca61fe2c-cf87-40a8-8190-da58729dbbbf"
   },
   "outputs": [
    {
     "ename": "NameError",
     "evalue": "name 'best_model' is not defined",
     "output_type": "error",
     "traceback": [
      "\u001b[0;31m---------------------------------------------------------------------------\u001b[0m",
      "\u001b[0;31mNameError\u001b[0m                                 Traceback (most recent call last)",
      "Cell \u001b[0;32mIn[43], line 4\u001b[0m\n\u001b[1;32m      1\u001b[0m evaluator \u001b[38;5;241m=\u001b[39m RegressionEvaluator(metricName\u001b[38;5;241m=\u001b[39m\u001b[38;5;124m'\u001b[39m\u001b[38;5;124mrmse\u001b[39m\u001b[38;5;124m'\u001b[39m, labelCol\u001b[38;5;241m=\u001b[39m\u001b[38;5;124m'\u001b[39m\u001b[38;5;124mLife expectancy\u001b[39m\u001b[38;5;124m'\u001b[39m)\n\u001b[1;32m      3\u001b[0m \u001b[38;5;66;03m# Make predictions on the test data using the best model\u001b[39;00m\n\u001b[0;32m----> 4\u001b[0m predictions \u001b[38;5;241m=\u001b[39m \u001b[43mbest_model\u001b[49m\u001b[38;5;241m.\u001b[39mtransform(test_data)\n\u001b[1;32m      6\u001b[0m \u001b[38;5;66;03m# Calculate RMSE, MSE, and MAE\u001b[39;00m\n\u001b[1;32m      7\u001b[0m rmse \u001b[38;5;241m=\u001b[39m evaluator\u001b[38;5;241m.\u001b[39mevaluate(predictions)\n",
      "\u001b[0;31mNameError\u001b[0m: name 'best_model' is not defined"
     ]
    }
   ],
   "source": [
    "evaluator = RegressionEvaluator(metricName='rmse', labelCol='Life expectancy')\n",
    "\n",
    "# Make predictions on the test data using the best model\n",
    "predictions = best_model.transform(test_data)\n",
    "\n",
    "# Calculate RMSE, MSE, and MAE\n",
    "rmse = evaluator.evaluate(predictions)\n",
    "mse = evaluator.evaluate(predictions, {evaluator.metricName: \"mse\"})\n",
    "mae = evaluator.evaluate(predictions, {evaluator.metricName: \"mae\"})\n",
    "\n",
    "# Display the evaluation results\n",
    "print(\"RMSE on Test Data:\", rmse)\n",
    "print(\"MSE on Test Data:\", mse)\n",
    "print(\"MAE on Test Data:\", mae)\n"
   ]
  },
  {
   "cell_type": "markdown",
   "metadata": {
    "id": "K_CeQ6ZCuS0J"
   },
   "source": [
    "- It can be observed that tuning did not improve the model much so the current gradient boosting model seems to be the best model"
   ]
  },
  {
   "cell_type": "markdown",
   "metadata": {
    "id": "dakKZWCdq4IC"
   },
   "source": [
    "###<b>7. Ethical and Moral principles"
   ]
  },
  {
   "cell_type": "markdown",
   "metadata": {
    "id": "YPDmtzPtq7aL"
   },
   "source": [
    "When we are predicting the life expectancy using Machine Learning for a project, it is essential to consider ethical and moral principles to ensure responsible and fair use of the data and models. Here are some key principles to keep in mind:\n",
    "\n",
    "1. Data Privacy and Security: Prioritize the privacy and security of individuals' data used for the model. Anonymize or pseudonymize sensitive information to prevent the identification of individuals. Use secure data storage and transmission protocols to safeguard against unauthorized access.\n",
    "\n",
    "2. Fairness and Bias Mitigation: Be vigilant about potential biases in the data that might affect the model's predictions. Ensure that the model does not perpetuate unfair discrimination or reinforce existing social inequalities. Strive for fairness in both the data used for training and the model's decision-making process.\n",
    "\n",
    "3. Transparency and Interpretability: Aim to create ML models that are interpretable and transparent. Users should understand how the model makes predictions and what features contribute to its decisions. This fosters trust in the model's predictions and allows for easier identification of potential biases.\n",
    "\n",
    "4. Informed Consent: When collecting data from individuals, obtain informed consent and clearly explain the purpose and use of their data for life expectancy prediction. Allow individuals to withdraw their consent and have control over their data.\n",
    "\n",
    "5. Beneficence: Ensure that the use of ML models for predicting life expectancy benefits the well-being of individuals and society as a whole. The primary goal should be to improve public health and healthcare outcomes.\n",
    "\n",
    "6. Accountability and Governance: Establish clear accountability for the development and deployment of ML models. Set up appropriate governance mechanisms to review and monitor the models' impact regularly.\n",
    "\n",
    "7. Continuous Improvement and Validation: Regularly review and validate the model's predictions against real-world data. Improve the model iteratively based on new insights and feedback to enhance its accuracy and fairness.\n",
    "\n",
    "8. Avoiding Misuse: Be cautious about potential misuse of the models for discriminatory or harmful purposes. Proactively address any concerns or misuse by users of the model.\n",
    "\n",
    "9. Collaboration and Communication: Engage in open communication with stakeholders, including healthcare professionals, policymakers, and affected communities. Collaborate with experts from diverse fields to ensure a comprehensive and ethical approach to life expectancy prediction.\n",
    "\n",
    "10. Social Impact Assessment: Conduct a social impact assessment to understand the potential consequences of deploying the model in different contexts. Strive to maximize positive impact while minimizing harm.\n",
    "\n"
   ]
  },
  {
   "cell_type": "code",
   "execution_count": null,
   "metadata": {
    "id": "H_GrQGqtq3dL"
   },
   "outputs": [],
   "source": []
  },
  {
   "cell_type": "code",
   "execution_count": null,
   "metadata": {},
   "outputs": [],
   "source": []
  },
  {
   "cell_type": "code",
   "execution_count": null,
   "metadata": {},
   "outputs": [],
   "source": []
  },
  {
   "cell_type": "code",
   "execution_count": null,
   "metadata": {},
   "outputs": [],
   "source": []
  },
  {
   "cell_type": "code",
   "execution_count": null,
   "metadata": {},
   "outputs": [],
   "source": []
  }
 ],
 "metadata": {
  "colab": {
   "provenance": []
  },
  "kernelspec": {
   "display_name": "Python 3 (ipykernel)",
   "language": "python",
   "name": "python3"
  },
  "language_info": {
   "codemirror_mode": {
    "name": "ipython",
    "version": 3
   },
   "file_extension": ".py",
   "mimetype": "text/x-python",
   "name": "python",
   "nbconvert_exporter": "python",
   "pygments_lexer": "ipython3",
   "version": "3.9.13"
  },
  "widgets": {
   "application/vnd.jupyter.widget-state+json": {
    "069f81c909224147a1e020f1fecd61be": {
     "model_module": "@jupyter-widgets/controls",
     "model_module_version": "1.5.0",
     "model_name": "FloatProgressModel",
     "state": {
      "_dom_classes": [],
      "_model_module": "@jupyter-widgets/controls",
      "_model_module_version": "1.5.0",
      "_model_name": "FloatProgressModel",
      "_view_count": null,
      "_view_module": "@jupyter-widgets/controls",
      "_view_module_version": "1.5.0",
      "_view_name": "ProgressView",
      "bar_style": "success",
      "description": "",
      "description_tooltip": null,
      "layout": "IPY_MODEL_07f3e3ad891845f5bddadd9693497f7c",
      "max": 1,
      "min": 0,
      "orientation": "horizontal",
      "style": "IPY_MODEL_65a98e0529f944a7b8096bd4abbab126",
      "value": 1
     }
    },
    "07f3e3ad891845f5bddadd9693497f7c": {
     "model_module": "@jupyter-widgets/base",
     "model_module_version": "1.2.0",
     "model_name": "LayoutModel",
     "state": {
      "_model_module": "@jupyter-widgets/base",
      "_model_module_version": "1.2.0",
      "_model_name": "LayoutModel",
      "_view_count": null,
      "_view_module": "@jupyter-widgets/base",
      "_view_module_version": "1.2.0",
      "_view_name": "LayoutView",
      "align_content": null,
      "align_items": null,
      "align_self": null,
      "border": null,
      "bottom": null,
      "display": null,
      "flex": null,
      "flex_flow": null,
      "grid_area": null,
      "grid_auto_columns": null,
      "grid_auto_flow": null,
      "grid_auto_rows": null,
      "grid_column": null,
      "grid_gap": null,
      "grid_row": null,
      "grid_template_areas": null,
      "grid_template_columns": null,
      "grid_template_rows": null,
      "height": null,
      "justify_content": null,
      "justify_items": null,
      "left": null,
      "margin": null,
      "max_height": null,
      "max_width": null,
      "min_height": null,
      "min_width": null,
      "object_fit": null,
      "object_position": null,
      "order": null,
      "overflow": null,
      "overflow_x": null,
      "overflow_y": null,
      "padding": null,
      "right": null,
      "top": null,
      "visibility": null,
      "width": null
     }
    },
    "08c6bc5652d5435a973ee8a2580491b3": {
     "model_module": "@jupyter-widgets/controls",
     "model_module_version": "1.5.0",
     "model_name": "DescriptionStyleModel",
     "state": {
      "_model_module": "@jupyter-widgets/controls",
      "_model_module_version": "1.5.0",
      "_model_name": "DescriptionStyleModel",
      "_view_count": null,
      "_view_module": "@jupyter-widgets/base",
      "_view_module_version": "1.2.0",
      "_view_name": "StyleView",
      "description_width": ""
     }
    },
    "08d02df4726b4fbebda713a06032a163": {
     "model_module": "@jupyter-widgets/controls",
     "model_module_version": "1.5.0",
     "model_name": "HBoxModel",
     "state": {
      "_dom_classes": [],
      "_model_module": "@jupyter-widgets/controls",
      "_model_module_version": "1.5.0",
      "_model_name": "HBoxModel",
      "_view_count": null,
      "_view_module": "@jupyter-widgets/controls",
      "_view_module_version": "1.5.0",
      "_view_name": "HBoxView",
      "box_style": "",
      "children": [
       "IPY_MODEL_ebf0fdfcc59f422b9bb3ab2558761518",
       "IPY_MODEL_e29eda95254b49728e9f0dfa5870d1b6",
       "IPY_MODEL_e8b50ce1e32547f192ac52f5d009210b"
      ],
      "layout": "IPY_MODEL_2a089df420c34f9b93d91958a5e77271"
     }
    },
    "150f1e4d96234509a3d74fd7eb963ae2": {
     "model_module": "@jupyter-widgets/controls",
     "model_module_version": "1.5.0",
     "model_name": "DescriptionStyleModel",
     "state": {
      "_model_module": "@jupyter-widgets/controls",
      "_model_module_version": "1.5.0",
      "_model_name": "DescriptionStyleModel",
      "_view_count": null,
      "_view_module": "@jupyter-widgets/base",
      "_view_module_version": "1.2.0",
      "_view_name": "StyleView",
      "description_width": ""
     }
    },
    "1a258e83417e4b3c819097c8bf9ea7ab": {
     "model_module": "@jupyter-widgets/controls",
     "model_module_version": "1.5.0",
     "model_name": "FloatProgressModel",
     "state": {
      "_dom_classes": [],
      "_model_module": "@jupyter-widgets/controls",
      "_model_module_version": "1.5.0",
      "_model_name": "FloatProgressModel",
      "_view_count": null,
      "_view_module": "@jupyter-widgets/controls",
      "_view_module_version": "1.5.0",
      "_view_name": "ProgressView",
      "bar_style": "success",
      "description": "",
      "description_tooltip": null,
      "layout": "IPY_MODEL_76c5a9c1b1fb426ebac79f337f68cf3d",
      "max": 5,
      "min": 0,
      "orientation": "horizontal",
      "style": "IPY_MODEL_6b260d4d8f8446bc8af4cc67d7b17385",
      "value": 5
     }
    },
    "225f2397491345a8a93828f4fce0f694": {
     "model_module": "@jupyter-widgets/controls",
     "model_module_version": "1.5.0",
     "model_name": "HTMLModel",
     "state": {
      "_dom_classes": [],
      "_model_module": "@jupyter-widgets/controls",
      "_model_module_version": "1.5.0",
      "_model_name": "HTMLModel",
      "_view_count": null,
      "_view_module": "@jupyter-widgets/controls",
      "_view_module_version": "1.5.0",
      "_view_name": "HTMLView",
      "description": "",
      "description_tooltip": null,
      "layout": "IPY_MODEL_ac2502befe824eb9bb46d7b35af9d371",
      "placeholder": "​",
      "style": "IPY_MODEL_83b87fd21b3c481c957d5328bef3b152",
      "value": " 1/1 [00:09&lt;00:00,  9.89s/it]"
     }
    },
    "2a089df420c34f9b93d91958a5e77271": {
     "model_module": "@jupyter-widgets/base",
     "model_module_version": "1.2.0",
     "model_name": "LayoutModel",
     "state": {
      "_model_module": "@jupyter-widgets/base",
      "_model_module_version": "1.2.0",
      "_model_name": "LayoutModel",
      "_view_count": null,
      "_view_module": "@jupyter-widgets/base",
      "_view_module_version": "1.2.0",
      "_view_name": "LayoutView",
      "align_content": null,
      "align_items": null,
      "align_self": null,
      "border": null,
      "bottom": null,
      "display": null,
      "flex": null,
      "flex_flow": null,
      "grid_area": null,
      "grid_auto_columns": null,
      "grid_auto_flow": null,
      "grid_auto_rows": null,
      "grid_column": null,
      "grid_gap": null,
      "grid_row": null,
      "grid_template_areas": null,
      "grid_template_columns": null,
      "grid_template_rows": null,
      "height": null,
      "justify_content": null,
      "justify_items": null,
      "left": null,
      "margin": null,
      "max_height": null,
      "max_width": null,
      "min_height": null,
      "min_width": null,
      "object_fit": null,
      "object_position": null,
      "order": null,
      "overflow": null,
      "overflow_x": null,
      "overflow_y": null,
      "padding": null,
      "right": null,
      "top": null,
      "visibility": null,
      "width": null
     }
    },
    "40c5bcf5ad514c68b6128a599b88a40e": {
     "model_module": "@jupyter-widgets/controls",
     "model_module_version": "1.5.0",
     "model_name": "DescriptionStyleModel",
     "state": {
      "_model_module": "@jupyter-widgets/controls",
      "_model_module_version": "1.5.0",
      "_model_name": "DescriptionStyleModel",
      "_view_count": null,
      "_view_module": "@jupyter-widgets/base",
      "_view_module_version": "1.2.0",
      "_view_name": "StyleView",
      "description_width": ""
     }
    },
    "65a98e0529f944a7b8096bd4abbab126": {
     "model_module": "@jupyter-widgets/controls",
     "model_module_version": "1.5.0",
     "model_name": "ProgressStyleModel",
     "state": {
      "_model_module": "@jupyter-widgets/controls",
      "_model_module_version": "1.5.0",
      "_model_name": "ProgressStyleModel",
      "_view_count": null,
      "_view_module": "@jupyter-widgets/base",
      "_view_module_version": "1.2.0",
      "_view_name": "StyleView",
      "bar_color": null,
      "description_width": ""
     }
    },
    "65da945ed4224770b05e6cf65de5425c": {
     "model_module": "@jupyter-widgets/base",
     "model_module_version": "1.2.0",
     "model_name": "LayoutModel",
     "state": {
      "_model_module": "@jupyter-widgets/base",
      "_model_module_version": "1.2.0",
      "_model_name": "LayoutModel",
      "_view_count": null,
      "_view_module": "@jupyter-widgets/base",
      "_view_module_version": "1.2.0",
      "_view_name": "LayoutView",
      "align_content": null,
      "align_items": null,
      "align_self": null,
      "border": null,
      "bottom": null,
      "display": null,
      "flex": null,
      "flex_flow": null,
      "grid_area": null,
      "grid_auto_columns": null,
      "grid_auto_flow": null,
      "grid_auto_rows": null,
      "grid_column": null,
      "grid_gap": null,
      "grid_row": null,
      "grid_template_areas": null,
      "grid_template_columns": null,
      "grid_template_rows": null,
      "height": null,
      "justify_content": null,
      "justify_items": null,
      "left": null,
      "margin": null,
      "max_height": null,
      "max_width": null,
      "min_height": null,
      "min_width": null,
      "object_fit": null,
      "object_position": null,
      "order": null,
      "overflow": null,
      "overflow_x": null,
      "overflow_y": null,
      "padding": null,
      "right": null,
      "top": null,
      "visibility": null,
      "width": null
     }
    },
    "675f644be00c473f9e9e953f148b74bc": {
     "model_module": "@jupyter-widgets/controls",
     "model_module_version": "1.5.0",
     "model_name": "ProgressStyleModel",
     "state": {
      "_model_module": "@jupyter-widgets/controls",
      "_model_module_version": "1.5.0",
      "_model_name": "ProgressStyleModel",
      "_view_count": null,
      "_view_module": "@jupyter-widgets/base",
      "_view_module_version": "1.2.0",
      "_view_name": "StyleView",
      "bar_color": null,
      "description_width": ""
     }
    },
    "67b2ec98da4a4313af6147bae9b50690": {
     "model_module": "@jupyter-widgets/controls",
     "model_module_version": "1.5.0",
     "model_name": "DescriptionStyleModel",
     "state": {
      "_model_module": "@jupyter-widgets/controls",
      "_model_module_version": "1.5.0",
      "_model_name": "DescriptionStyleModel",
      "_view_count": null,
      "_view_module": "@jupyter-widgets/base",
      "_view_module_version": "1.2.0",
      "_view_name": "StyleView",
      "description_width": ""
     }
    },
    "68b47cf86d774bf0851291b52d3fc205": {
     "model_module": "@jupyter-widgets/base",
     "model_module_version": "1.2.0",
     "model_name": "LayoutModel",
     "state": {
      "_model_module": "@jupyter-widgets/base",
      "_model_module_version": "1.2.0",
      "_model_name": "LayoutModel",
      "_view_count": null,
      "_view_module": "@jupyter-widgets/base",
      "_view_module_version": "1.2.0",
      "_view_name": "LayoutView",
      "align_content": null,
      "align_items": null,
      "align_self": null,
      "border": null,
      "bottom": null,
      "display": null,
      "flex": null,
      "flex_flow": null,
      "grid_area": null,
      "grid_auto_columns": null,
      "grid_auto_flow": null,
      "grid_auto_rows": null,
      "grid_column": null,
      "grid_gap": null,
      "grid_row": null,
      "grid_template_areas": null,
      "grid_template_columns": null,
      "grid_template_rows": null,
      "height": null,
      "justify_content": null,
      "justify_items": null,
      "left": null,
      "margin": null,
      "max_height": null,
      "max_width": null,
      "min_height": null,
      "min_width": null,
      "object_fit": null,
      "object_position": null,
      "order": null,
      "overflow": null,
      "overflow_x": null,
      "overflow_y": null,
      "padding": null,
      "right": null,
      "top": null,
      "visibility": null,
      "width": null
     }
    },
    "69513b66840b4168b4c0f47e4b1f113b": {
     "model_module": "@jupyter-widgets/controls",
     "model_module_version": "1.5.0",
     "model_name": "HBoxModel",
     "state": {
      "_dom_classes": [],
      "_model_module": "@jupyter-widgets/controls",
      "_model_module_version": "1.5.0",
      "_model_name": "HBoxModel",
      "_view_count": null,
      "_view_module": "@jupyter-widgets/controls",
      "_view_module_version": "1.5.0",
      "_view_name": "HBoxView",
      "box_style": "",
      "children": [
       "IPY_MODEL_72a07374598d4ce0bc3a9554ab8fe0c1",
       "IPY_MODEL_069f81c909224147a1e020f1fecd61be",
       "IPY_MODEL_225f2397491345a8a93828f4fce0f694"
      ],
      "layout": "IPY_MODEL_744f7540819546c3ba7c4f7f2746bde0"
     }
    },
    "6b260d4d8f8446bc8af4cc67d7b17385": {
     "model_module": "@jupyter-widgets/controls",
     "model_module_version": "1.5.0",
     "model_name": "ProgressStyleModel",
     "state": {
      "_model_module": "@jupyter-widgets/controls",
      "_model_module_version": "1.5.0",
      "_model_name": "ProgressStyleModel",
      "_view_count": null,
      "_view_module": "@jupyter-widgets/base",
      "_view_module_version": "1.2.0",
      "_view_name": "StyleView",
      "bar_color": null,
      "description_width": ""
     }
    },
    "72a07374598d4ce0bc3a9554ab8fe0c1": {
     "model_module": "@jupyter-widgets/controls",
     "model_module_version": "1.5.0",
     "model_name": "HTMLModel",
     "state": {
      "_dom_classes": [],
      "_model_module": "@jupyter-widgets/controls",
      "_model_module_version": "1.5.0",
      "_model_name": "HTMLModel",
      "_view_count": null,
      "_view_module": "@jupyter-widgets/controls",
      "_view_module_version": "1.5.0",
      "_view_name": "HTMLView",
      "description": "",
      "description_tooltip": null,
      "layout": "IPY_MODEL_ee181acf05b54e3d80ad7cfc936d76ec",
      "placeholder": "​",
      "style": "IPY_MODEL_40c5bcf5ad514c68b6128a599b88a40e",
      "value": "Render HTML: 100%"
     }
    },
    "744f7540819546c3ba7c4f7f2746bde0": {
     "model_module": "@jupyter-widgets/base",
     "model_module_version": "1.2.0",
     "model_name": "LayoutModel",
     "state": {
      "_model_module": "@jupyter-widgets/base",
      "_model_module_version": "1.2.0",
      "_model_name": "LayoutModel",
      "_view_count": null,
      "_view_module": "@jupyter-widgets/base",
      "_view_module_version": "1.2.0",
      "_view_name": "LayoutView",
      "align_content": null,
      "align_items": null,
      "align_self": null,
      "border": null,
      "bottom": null,
      "display": null,
      "flex": null,
      "flex_flow": null,
      "grid_area": null,
      "grid_auto_columns": null,
      "grid_auto_flow": null,
      "grid_auto_rows": null,
      "grid_column": null,
      "grid_gap": null,
      "grid_row": null,
      "grid_template_areas": null,
      "grid_template_columns": null,
      "grid_template_rows": null,
      "height": null,
      "justify_content": null,
      "justify_items": null,
      "left": null,
      "margin": null,
      "max_height": null,
      "max_width": null,
      "min_height": null,
      "min_width": null,
      "object_fit": null,
      "object_position": null,
      "order": null,
      "overflow": null,
      "overflow_x": null,
      "overflow_y": null,
      "padding": null,
      "right": null,
      "top": null,
      "visibility": null,
      "width": null
     }
    },
    "76c5a9c1b1fb426ebac79f337f68cf3d": {
     "model_module": "@jupyter-widgets/base",
     "model_module_version": "1.2.0",
     "model_name": "LayoutModel",
     "state": {
      "_model_module": "@jupyter-widgets/base",
      "_model_module_version": "1.2.0",
      "_model_name": "LayoutModel",
      "_view_count": null,
      "_view_module": "@jupyter-widgets/base",
      "_view_module_version": "1.2.0",
      "_view_name": "LayoutView",
      "align_content": null,
      "align_items": null,
      "align_self": null,
      "border": null,
      "bottom": null,
      "display": null,
      "flex": null,
      "flex_flow": null,
      "grid_area": null,
      "grid_auto_columns": null,
      "grid_auto_flow": null,
      "grid_auto_rows": null,
      "grid_column": null,
      "grid_gap": null,
      "grid_row": null,
      "grid_template_areas": null,
      "grid_template_columns": null,
      "grid_template_rows": null,
      "height": null,
      "justify_content": null,
      "justify_items": null,
      "left": null,
      "margin": null,
      "max_height": null,
      "max_width": null,
      "min_height": null,
      "min_width": null,
      "object_fit": null,
      "object_position": null,
      "order": null,
      "overflow": null,
      "overflow_x": null,
      "overflow_y": null,
      "padding": null,
      "right": null,
      "top": null,
      "visibility": null,
      "width": null
     }
    },
    "76d3d3af8c474c62a6bd460272c89bed": {
     "model_module": "@jupyter-widgets/controls",
     "model_module_version": "1.5.0",
     "model_name": "DescriptionStyleModel",
     "state": {
      "_model_module": "@jupyter-widgets/controls",
      "_model_module_version": "1.5.0",
      "_model_name": "DescriptionStyleModel",
      "_view_count": null,
      "_view_module": "@jupyter-widgets/base",
      "_view_module_version": "1.2.0",
      "_view_name": "StyleView",
      "description_width": ""
     }
    },
    "83b87fd21b3c481c957d5328bef3b152": {
     "model_module": "@jupyter-widgets/controls",
     "model_module_version": "1.5.0",
     "model_name": "DescriptionStyleModel",
     "state": {
      "_model_module": "@jupyter-widgets/controls",
      "_model_module_version": "1.5.0",
      "_model_name": "DescriptionStyleModel",
      "_view_count": null,
      "_view_module": "@jupyter-widgets/base",
      "_view_module_version": "1.2.0",
      "_view_name": "StyleView",
      "description_width": ""
     }
    },
    "894711101339440fa4297179883ac40f": {
     "model_module": "@jupyter-widgets/base",
     "model_module_version": "1.2.0",
     "model_name": "LayoutModel",
     "state": {
      "_model_module": "@jupyter-widgets/base",
      "_model_module_version": "1.2.0",
      "_model_name": "LayoutModel",
      "_view_count": null,
      "_view_module": "@jupyter-widgets/base",
      "_view_module_version": "1.2.0",
      "_view_name": "LayoutView",
      "align_content": null,
      "align_items": null,
      "align_self": null,
      "border": null,
      "bottom": null,
      "display": null,
      "flex": null,
      "flex_flow": null,
      "grid_area": null,
      "grid_auto_columns": null,
      "grid_auto_flow": null,
      "grid_auto_rows": null,
      "grid_column": null,
      "grid_gap": null,
      "grid_row": null,
      "grid_template_areas": null,
      "grid_template_columns": null,
      "grid_template_rows": null,
      "height": null,
      "justify_content": null,
      "justify_items": null,
      "left": null,
      "margin": null,
      "max_height": null,
      "max_width": null,
      "min_height": null,
      "min_width": null,
      "object_fit": null,
      "object_position": null,
      "order": null,
      "overflow": null,
      "overflow_x": null,
      "overflow_y": null,
      "padding": null,
      "right": null,
      "top": null,
      "visibility": null,
      "width": null
     }
    },
    "8aa69c7ae5e14e35a1d8cd54d33a1682": {
     "model_module": "@jupyter-widgets/controls",
     "model_module_version": "1.5.0",
     "model_name": "HBoxModel",
     "state": {
      "_dom_classes": [],
      "_model_module": "@jupyter-widgets/controls",
      "_model_module_version": "1.5.0",
      "_model_name": "HBoxModel",
      "_view_count": null,
      "_view_module": "@jupyter-widgets/controls",
      "_view_module_version": "1.5.0",
      "_view_name": "HBoxView",
      "box_style": "",
      "children": [
       "IPY_MODEL_e8cbb4b5f6514b4398d8ef2ba59ea193",
       "IPY_MODEL_1a258e83417e4b3c819097c8bf9ea7ab",
       "IPY_MODEL_d48048cd43594ae4b60c1386006ed40a"
      ],
      "layout": "IPY_MODEL_68b47cf86d774bf0851291b52d3fc205"
     }
    },
    "ac2502befe824eb9bb46d7b35af9d371": {
     "model_module": "@jupyter-widgets/base",
     "model_module_version": "1.2.0",
     "model_name": "LayoutModel",
     "state": {
      "_model_module": "@jupyter-widgets/base",
      "_model_module_version": "1.2.0",
      "_model_name": "LayoutModel",
      "_view_count": null,
      "_view_module": "@jupyter-widgets/base",
      "_view_module_version": "1.2.0",
      "_view_name": "LayoutView",
      "align_content": null,
      "align_items": null,
      "align_self": null,
      "border": null,
      "bottom": null,
      "display": null,
      "flex": null,
      "flex_flow": null,
      "grid_area": null,
      "grid_auto_columns": null,
      "grid_auto_flow": null,
      "grid_auto_rows": null,
      "grid_column": null,
      "grid_gap": null,
      "grid_row": null,
      "grid_template_areas": null,
      "grid_template_columns": null,
      "grid_template_rows": null,
      "height": null,
      "justify_content": null,
      "justify_items": null,
      "left": null,
      "margin": null,
      "max_height": null,
      "max_width": null,
      "min_height": null,
      "min_width": null,
      "object_fit": null,
      "object_position": null,
      "order": null,
      "overflow": null,
      "overflow_x": null,
      "overflow_y": null,
      "padding": null,
      "right": null,
      "top": null,
      "visibility": null,
      "width": null
     }
    },
    "b3676fa55f934ef1a9ecfa97f4cf8f6d": {
     "model_module": "@jupyter-widgets/base",
     "model_module_version": "1.2.0",
     "model_name": "LayoutModel",
     "state": {
      "_model_module": "@jupyter-widgets/base",
      "_model_module_version": "1.2.0",
      "_model_name": "LayoutModel",
      "_view_count": null,
      "_view_module": "@jupyter-widgets/base",
      "_view_module_version": "1.2.0",
      "_view_name": "LayoutView",
      "align_content": null,
      "align_items": null,
      "align_self": null,
      "border": null,
      "bottom": null,
      "display": null,
      "flex": null,
      "flex_flow": null,
      "grid_area": null,
      "grid_auto_columns": null,
      "grid_auto_flow": null,
      "grid_auto_rows": null,
      "grid_column": null,
      "grid_gap": null,
      "grid_row": null,
      "grid_template_areas": null,
      "grid_template_columns": null,
      "grid_template_rows": null,
      "height": null,
      "justify_content": null,
      "justify_items": null,
      "left": null,
      "margin": null,
      "max_height": null,
      "max_width": null,
      "min_height": null,
      "min_width": null,
      "object_fit": null,
      "object_position": null,
      "order": null,
      "overflow": null,
      "overflow_x": null,
      "overflow_y": null,
      "padding": null,
      "right": null,
      "top": null,
      "visibility": null,
      "width": null
     }
    },
    "d48048cd43594ae4b60c1386006ed40a": {
     "model_module": "@jupyter-widgets/controls",
     "model_module_version": "1.5.0",
     "model_name": "HTMLModel",
     "state": {
      "_dom_classes": [],
      "_model_module": "@jupyter-widgets/controls",
      "_model_module_version": "1.5.0",
      "_model_name": "HTMLModel",
      "_view_count": null,
      "_view_module": "@jupyter-widgets/controls",
      "_view_module_version": "1.5.0",
      "_view_name": "HTMLView",
      "description": "",
      "description_tooltip": null,
      "layout": "IPY_MODEL_de02aecaa08d4da38b88be315e3f9271",
      "placeholder": "​",
      "style": "IPY_MODEL_76d3d3af8c474c62a6bd460272c89bed",
      "value": " 284/284 [01:22&lt;00:00,  2.68it/s, Completed]"
     }
    },
    "de02aecaa08d4da38b88be315e3f9271": {
     "model_module": "@jupyter-widgets/base",
     "model_module_version": "1.2.0",
     "model_name": "LayoutModel",
     "state": {
      "_model_module": "@jupyter-widgets/base",
      "_model_module_version": "1.2.0",
      "_model_name": "LayoutModel",
      "_view_count": null,
      "_view_module": "@jupyter-widgets/base",
      "_view_module_version": "1.2.0",
      "_view_name": "LayoutView",
      "align_content": null,
      "align_items": null,
      "align_self": null,
      "border": null,
      "bottom": null,
      "display": null,
      "flex": null,
      "flex_flow": null,
      "grid_area": null,
      "grid_auto_columns": null,
      "grid_auto_flow": null,
      "grid_auto_rows": null,
      "grid_column": null,
      "grid_gap": null,
      "grid_row": null,
      "grid_template_areas": null,
      "grid_template_columns": null,
      "grid_template_rows": null,
      "height": null,
      "justify_content": null,
      "justify_items": null,
      "left": null,
      "margin": null,
      "max_height": null,
      "max_width": null,
      "min_height": null,
      "min_width": null,
      "object_fit": null,
      "object_position": null,
      "order": null,
      "overflow": null,
      "overflow_x": null,
      "overflow_y": null,
      "padding": null,
      "right": null,
      "top": null,
      "visibility": null,
      "width": null
     }
    },
    "e29eda95254b49728e9f0dfa5870d1b6": {
     "model_module": "@jupyter-widgets/controls",
     "model_module_version": "1.5.0",
     "model_name": "FloatProgressModel",
     "state": {
      "_dom_classes": [],
      "_model_module": "@jupyter-widgets/controls",
      "_model_module_version": "1.5.0",
      "_model_name": "FloatProgressModel",
      "_view_count": null,
      "_view_module": "@jupyter-widgets/controls",
      "_view_module_version": "1.5.0",
      "_view_name": "ProgressView",
      "bar_style": "success",
      "description": "",
      "description_tooltip": null,
      "layout": "IPY_MODEL_65da945ed4224770b05e6cf65de5425c",
      "max": 1,
      "min": 0,
      "orientation": "horizontal",
      "style": "IPY_MODEL_675f644be00c473f9e9e953f148b74bc",
      "value": 1
     }
    },
    "e8b50ce1e32547f192ac52f5d009210b": {
     "model_module": "@jupyter-widgets/controls",
     "model_module_version": "1.5.0",
     "model_name": "HTMLModel",
     "state": {
      "_dom_classes": [],
      "_model_module": "@jupyter-widgets/controls",
      "_model_module_version": "1.5.0",
      "_model_name": "HTMLModel",
      "_view_count": null,
      "_view_module": "@jupyter-widgets/controls",
      "_view_module_version": "1.5.0",
      "_view_name": "HTMLView",
      "description": "",
      "description_tooltip": null,
      "layout": "IPY_MODEL_894711101339440fa4297179883ac40f",
      "placeholder": "​",
      "style": "IPY_MODEL_150f1e4d96234509a3d74fd7eb963ae2",
      "value": " 1/1 [00:13&lt;00:00, 13.97s/it]"
     }
    },
    "e8cbb4b5f6514b4398d8ef2ba59ea193": {
     "model_module": "@jupyter-widgets/controls",
     "model_module_version": "1.5.0",
     "model_name": "HTMLModel",
     "state": {
      "_dom_classes": [],
      "_model_module": "@jupyter-widgets/controls",
      "_model_module_version": "1.5.0",
      "_model_name": "HTMLModel",
      "_view_count": null,
      "_view_module": "@jupyter-widgets/controls",
      "_view_module_version": "1.5.0",
      "_view_name": "HTMLView",
      "description": "",
      "description_tooltip": null,
      "layout": "IPY_MODEL_b3676fa55f934ef1a9ecfa97f4cf8f6d",
      "placeholder": "​",
      "style": "IPY_MODEL_08c6bc5652d5435a973ee8a2580491b3",
      "value": "Summarize dataset: 100%"
     }
    },
    "ebf0fdfcc59f422b9bb3ab2558761518": {
     "model_module": "@jupyter-widgets/controls",
     "model_module_version": "1.5.0",
     "model_name": "HTMLModel",
     "state": {
      "_dom_classes": [],
      "_model_module": "@jupyter-widgets/controls",
      "_model_module_version": "1.5.0",
      "_model_name": "HTMLModel",
      "_view_count": null,
      "_view_module": "@jupyter-widgets/controls",
      "_view_module_version": "1.5.0",
      "_view_name": "HTMLView",
      "description": "",
      "description_tooltip": null,
      "layout": "IPY_MODEL_f83760c4c5404742a545b8e51a1e0707",
      "placeholder": "​",
      "style": "IPY_MODEL_67b2ec98da4a4313af6147bae9b50690",
      "value": "Generate report structure: 100%"
     }
    },
    "ee181acf05b54e3d80ad7cfc936d76ec": {
     "model_module": "@jupyter-widgets/base",
     "model_module_version": "1.2.0",
     "model_name": "LayoutModel",
     "state": {
      "_model_module": "@jupyter-widgets/base",
      "_model_module_version": "1.2.0",
      "_model_name": "LayoutModel",
      "_view_count": null,
      "_view_module": "@jupyter-widgets/base",
      "_view_module_version": "1.2.0",
      "_view_name": "LayoutView",
      "align_content": null,
      "align_items": null,
      "align_self": null,
      "border": null,
      "bottom": null,
      "display": null,
      "flex": null,
      "flex_flow": null,
      "grid_area": null,
      "grid_auto_columns": null,
      "grid_auto_flow": null,
      "grid_auto_rows": null,
      "grid_column": null,
      "grid_gap": null,
      "grid_row": null,
      "grid_template_areas": null,
      "grid_template_columns": null,
      "grid_template_rows": null,
      "height": null,
      "justify_content": null,
      "justify_items": null,
      "left": null,
      "margin": null,
      "max_height": null,
      "max_width": null,
      "min_height": null,
      "min_width": null,
      "object_fit": null,
      "object_position": null,
      "order": null,
      "overflow": null,
      "overflow_x": null,
      "overflow_y": null,
      "padding": null,
      "right": null,
      "top": null,
      "visibility": null,
      "width": null
     }
    },
    "f83760c4c5404742a545b8e51a1e0707": {
     "model_module": "@jupyter-widgets/base",
     "model_module_version": "1.2.0",
     "model_name": "LayoutModel",
     "state": {
      "_model_module": "@jupyter-widgets/base",
      "_model_module_version": "1.2.0",
      "_model_name": "LayoutModel",
      "_view_count": null,
      "_view_module": "@jupyter-widgets/base",
      "_view_module_version": "1.2.0",
      "_view_name": "LayoutView",
      "align_content": null,
      "align_items": null,
      "align_self": null,
      "border": null,
      "bottom": null,
      "display": null,
      "flex": null,
      "flex_flow": null,
      "grid_area": null,
      "grid_auto_columns": null,
      "grid_auto_flow": null,
      "grid_auto_rows": null,
      "grid_column": null,
      "grid_gap": null,
      "grid_row": null,
      "grid_template_areas": null,
      "grid_template_columns": null,
      "grid_template_rows": null,
      "height": null,
      "justify_content": null,
      "justify_items": null,
      "left": null,
      "margin": null,
      "max_height": null,
      "max_width": null,
      "min_height": null,
      "min_width": null,
      "object_fit": null,
      "object_position": null,
      "order": null,
      "overflow": null,
      "overflow_x": null,
      "overflow_y": null,
      "padding": null,
      "right": null,
      "top": null,
      "visibility": null,
      "width": null
     }
    }
   }
  }
 },
 "nbformat": 4,
 "nbformat_minor": 1
}
